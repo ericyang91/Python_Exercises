{
 "cells": [
  {
   "cell_type": "markdown",
   "id": "20e54753",
   "metadata": {},
   "source": [
    "Python dictionaries are containers of the unordered set of objects like lists. The items in a dictionary are a comma-separated list of key-value pairs. While keys must be unique, values can be repeated across different keys in a dictionary. The dictionary keys must be immutable Python objects such as tuples, floats, integers, etc. Mutable objects such as Python lists cannot be used as keys."
   ]
  },
  {
   "cell_type": "markdown",
   "id": "9d3a2108",
   "metadata": {},
   "source": [
    "- Collection of dictionary keys:\n",
    "`<view> = <dict>.keys()`\n",
    "- Collection of dictionary values:\n",
    "`<view> = <dict>.values()`\n",
    "- Collection of key-value tuples:\n",
    "`<view> = <dict>.items()`"
   ]
  },
  {
   "cell_type": "markdown",
   "id": "3da075d3",
   "metadata": {},
   "source": [
    "- Get value by key: `dict[key]`\n",
    "- Get value by key: `dict.get(key)`"
   ]
  },
  {
   "cell_type": "markdown",
   "id": "f0c0dd29",
   "metadata": {},
   "source": [
    "- Iterate over Python dictionaries using for loops:\n",
    "\n",
    "```for key, value in dict.items():\n",
    "     return key, value```"
   ]
  },
  {
   "cell_type": "markdown",
   "id": "2e21d0b0",
   "metadata": {},
   "source": [
    "- Remove a key from a Python dictionary: `del dict[key]`"
   ]
  },
  {
   "cell_type": "markdown",
   "id": "679cbef1",
   "metadata": {},
   "source": [
    "- Sort a Python dictionary by key: `sorted(dict)`\n",
    "- Find the max and min value of a Python dict: `max/min(dict.keys(), key=lambda x: dict[x])`\n",
    "- Updating a dictionary: `dic1.update({key:value})`; This method does not return a new dictionary.\n",
    "- Adding a new key, value pair: `dict[key] = value`; This updates the existing dictionary and does not return a new dictionary\n",
    "- Test whether a dictionary contains a specific key: `key in dict`\n",
    "- Find the length of a dictionary: len(dict)"
   ]
  },
  {
   "cell_type": "code",
   "execution_count": 70,
   "id": "ea3f3066",
   "metadata": {},
   "outputs": [],
   "source": [
    "family = {'Ji Yeol':32, 'Lack Young':35, 'Dahee':1, 'Kyung Suk': 56, 'Chang Ho':28}"
   ]
  },
  {
   "cell_type": "code",
   "execution_count": 71,
   "id": "176dd501",
   "metadata": {},
   "outputs": [
    {
     "name": "stdout",
     "output_type": "stream",
     "text": [
      "['Kyung Suk', 'Lack Young', 'Ji Yeol', 'Chang Ho', 'Dahee']\n"
     ]
    }
   ],
   "source": [
    "# 1. Write a Python script to sort (ascending and descending) a dictionary by value.\n",
    "\n",
    "sorted_by_value = sorted(family, key=lambda x: family[x], reverse = True)\n",
    "print(sorted_by_value)"
   ]
  },
  {
   "cell_type": "code",
   "execution_count": 72,
   "id": "cbf5561a",
   "metadata": {},
   "outputs": [
    {
     "data": {
      "text/plain": [
       "dict"
      ]
     },
     "execution_count": 72,
     "metadata": {},
     "output_type": "execute_result"
    }
   ],
   "source": [
    "type(family)"
   ]
  },
  {
   "cell_type": "code",
   "execution_count": 73,
   "id": "dfe98983",
   "metadata": {},
   "outputs": [
    {
     "name": "stdout",
     "output_type": "stream",
     "text": [
      "{'Ji Yeol': 32, 'Lack Young': 35, 'Dahee': 1, 'Kyung Suk': 56, 'Chang Ho': 28, 'Byung Suk': 61}\n"
     ]
    }
   ],
   "source": [
    "# 2. Write a Python script to add a key to a dictionary.\n",
    "\n",
    "family['Byung Suk'] = 61\n",
    "print(family)"
   ]
  },
  {
   "cell_type": "code",
   "execution_count": 74,
   "id": "09e7c16a",
   "metadata": {},
   "outputs": [
    {
     "name": "stdout",
     "output_type": "stream",
     "text": [
      "{1: 10, 2: 20, 3: 30, 4: 40, 5: 50, 6: 60}\n"
     ]
    }
   ],
   "source": [
    "# 3. Write a Python script to concatenate the following dictionaries to create a new one.\n",
    "\n",
    "# Sample Dictionary :\n",
    "dic1={1:10, 2:20}\n",
    "dic2={3:30, 4:40}\n",
    "dic3={5:50,6:60}\n",
    "\n",
    "dict = {}\n",
    "for dictionary in [dic1, dic2, dic3]:\n",
    "    dic4.update(dictionary)\n",
    "    \n",
    "print(dic4)"
   ]
  },
  {
   "cell_type": "code",
   "execution_count": 76,
   "id": "e78e4cc7",
   "metadata": {},
   "outputs": [
    {
     "name": "stdout",
     "output_type": "stream",
     "text": [
      "Yes\n"
     ]
    }
   ],
   "source": [
    "# 4. Write a Python script to check whether a given key already exists in a dictionary.\n",
    "\n",
    "if 'Ji Yeol' in family:\n",
    "    print('Yes')\n",
    "else:\n",
    "    print('No')"
   ]
  },
  {
   "cell_type": "code",
   "execution_count": 78,
   "id": "c62c5183",
   "metadata": {},
   "outputs": [
    {
     "name": "stdout",
     "output_type": "stream",
     "text": [
      "32 Ji Yeol\n",
      "35 Lack Young\n",
      "1 Dahee\n",
      "56 Kyung Suk\n",
      "28 Chang Ho\n",
      "61 Byung Suk\n"
     ]
    }
   ],
   "source": [
    "# 5. Write a Python program to iterate over dictionaries using for loops.\n",
    "\n",
    "for key, value in family.items():\n",
    "    print(value, key)"
   ]
  },
  {
   "cell_type": "code",
   "execution_count": 79,
   "id": "f8b32be1",
   "metadata": {},
   "outputs": [
    {
     "name": "stdout",
     "output_type": "stream",
     "text": [
      "{1: 1, 2: 4, 3: 9, 4: 16, 5: 25}\n"
     ]
    }
   ],
   "source": [
    "# 6. Write a Python script to generate and print a dictionary that contains a number (between 1 and n) in the form (x, x*x).\n",
    "# Sample Dictionary ( n = 5) :\n",
    "# Expected Output : {1: 1, 2: 4, 3: 9, 4: 16, 5: 25}\n",
    "\n",
    "n = 5\n",
    "dict = {}\n",
    "for n in range(1,n+1):\n",
    "  dict[n] = n*n\n",
    "\n",
    "print(dict)"
   ]
  },
  {
   "cell_type": "code",
   "execution_count": 80,
   "id": "d3eae275",
   "metadata": {},
   "outputs": [
    {
     "name": "stdout",
     "output_type": "stream",
     "text": [
      "{1: 1, 2: 4, 3: 9, 4: 16, 5: 25, 6: 36, 7: 49, 8: 64, 9: 81, 10: 100, 11: 121, 12: 144, 13: 169, 14: 196, 15: 225}\n"
     ]
    }
   ],
   "source": [
    "# 7. Write a Python script to print a dictionary where the keys are numbers between 1 and 15 (both included) and the \n",
    "# values are the square of the keys.\n",
    "\n",
    "dict = {}\n",
    "for n in range(1,16):\n",
    "  dict[n] = n**2\n",
    "\n",
    "print(dict)"
   ]
  },
  {
   "cell_type": "code",
   "execution_count": 81,
   "id": "4181be9e",
   "metadata": {},
   "outputs": [
    {
     "name": "stdout",
     "output_type": "stream",
     "text": [
      "{'a': 100, 'b': 200, 'c': 300, 'd': 400}\n"
     ]
    }
   ],
   "source": [
    "# 8. Write a Python script to merge two Python dictionaries.\n",
    "\n",
    "dic1 = {'a':100, 'b':200}\n",
    "dic2 = {'c':300, 'd':400}\n",
    "dic1.update(dic2)\n",
    "\n",
    "print(dic1)"
   ]
  },
  {
   "cell_type": "code",
   "execution_count": 82,
   "id": "95fc8b38",
   "metadata": {},
   "outputs": [
    {
     "name": "stdout",
     "output_type": "stream",
     "text": [
      "a 100\n",
      "b 200\n"
     ]
    }
   ],
   "source": [
    "# 9. Write a Python program to iterate over dictionaries using for loops.\n",
    "\n",
    "dic = {'a':100, 'b':200}\n",
    "for key, value in dic.items():\n",
    "  print(key, value)"
   ]
  },
  {
   "cell_type": "code",
   "execution_count": 83,
   "id": "c8062e24",
   "metadata": {},
   "outputs": [
    {
     "name": "stdout",
     "output_type": "stream",
     "text": [
      "600\n"
     ]
    }
   ],
   "source": [
    "# 10. Write a Python program to sum all the items in a dictionary.\n",
    "\n",
    "dic = {'a':100, 'b':200, 'c':300}\n",
    "\n",
    "print(sum(dic.values()))"
   ]
  },
  {
   "cell_type": "code",
   "execution_count": 84,
   "id": "5c9890f1",
   "metadata": {},
   "outputs": [
    {
     "name": "stdout",
     "output_type": "stream",
     "text": [
      "6000000\n"
     ]
    }
   ],
   "source": [
    "# 11. Write a Python program to multiply all the items in a dictionary.\n",
    "\n",
    "dic = {'a':100, 'b':200, 'c':300}\n",
    "product = 1\n",
    "\n",
    "for value in dic.values():\n",
    "  product = product * value\n",
    "\n",
    "print(product)"
   ]
  },
  {
   "cell_type": "code",
   "execution_count": 85,
   "id": "2e718793",
   "metadata": {},
   "outputs": [
    {
     "name": "stdout",
     "output_type": "stream",
     "text": [
      "{'a': 100, 'b': 200}\n"
     ]
    }
   ],
   "source": [
    "# 12. Write a Python program to remove a key from a dictionary.\n",
    "\n",
    "dic = {'a':100, 'b':200, 'c':300}\n",
    "del dic['c']\n",
    "\n",
    "print(dic)"
   ]
  },
  {
   "cell_type": "code",
   "execution_count": 92,
   "id": "f0facfd3",
   "metadata": {},
   "outputs": [
    {
     "ename": "TypeError",
     "evalue": "'dict' object is not callable",
     "output_type": "error",
     "traceback": [
      "\u001b[1;31m---------------------------------------------------------------------------\u001b[0m",
      "\u001b[1;31mTypeError\u001b[0m                                 Traceback (most recent call last)",
      "Input \u001b[1;32mIn [92]\u001b[0m, in \u001b[0;36m<cell line: 6>\u001b[1;34m()\u001b[0m\n\u001b[0;32m      4\u001b[0m keys \u001b[38;5;241m=\u001b[39m [\u001b[38;5;241m1\u001b[39m, \u001b[38;5;241m2\u001b[39m, \u001b[38;5;241m3\u001b[39m, \u001b[38;5;241m4\u001b[39m]\n\u001b[0;32m      5\u001b[0m values \u001b[38;5;241m=\u001b[39m [\u001b[38;5;241m5\u001b[39m, \u001b[38;5;241m6\u001b[39m, \u001b[38;5;241m7\u001b[39m, \u001b[38;5;241m8\u001b[39m]\n\u001b[1;32m----> 6\u001b[0m dic \u001b[38;5;241m=\u001b[39m \u001b[38;5;28;43mdict\u001b[39;49m\u001b[43m(\u001b[49m\u001b[38;5;28;43mzip\u001b[39;49m\u001b[43m(\u001b[49m\u001b[43mkeys\u001b[49m\u001b[43m,\u001b[49m\u001b[43m \u001b[49m\u001b[43mvalues\u001b[49m\u001b[43m)\u001b[49m\u001b[43m)\u001b[49m  \u001b[38;5;66;03m# No error with a different variable name\u001b[39;00m\n\u001b[0;32m      7\u001b[0m \u001b[38;5;28mprint\u001b[39m(dic)\n",
      "\u001b[1;31mTypeError\u001b[0m: 'dict' object is not callable"
     ]
    }
   ],
   "source": [
    "# 13. Write a Python program to map two lists into a dictionary.\n",
    "\n",
    "keys = [1,2,3,4]\n",
    "values = [5,6,7,8]\n",
    "dictionary = dict(zip(keys,values))\n",
    "\n",
    "print(dictionary)"
   ]
  },
  {
   "cell_type": "code",
   "execution_count": 93,
   "id": "3bb258b8",
   "metadata": {},
   "outputs": [
    {
     "name": "stdout",
     "output_type": "stream",
     "text": [
      "[('a', 1), ('b', 2), ('c', 3)]\n"
     ]
    }
   ],
   "source": [
    "# 14. Write a Python program to sort a given dictionary by key.\n",
    "\n",
    "dic = {'b':2, 'c':3, 'a':1}\n",
    "sorted_dic = sorted(dic.items(), reverse = False)\n",
    "print(d)\n",
    "\n",
    "print(sorted_dic)"
   ]
  },
  {
   "cell_type": "code",
   "execution_count": 94,
   "id": "9e1c305c",
   "metadata": {},
   "outputs": [
    {
     "name": "stdout",
     "output_type": "stream",
     "text": [
      "3 1\n"
     ]
    }
   ],
   "source": [
    "# 15. Write a Python program to get the maximum and minimum values of a dictionary.\n",
    "\n",
    "dic = {'b':2, 'c':3, 'a':1}\n",
    "\n",
    "maximum = max(dic.values())\n",
    "minimum = min(dic.values())\n",
    "\n",
    "print(maximum, minimum)"
   ]
  },
  {
   "cell_type": "code",
   "execution_count": 100,
   "id": "f5eb5526",
   "metadata": {},
   "outputs": [
    {
     "name": "stdout",
     "output_type": "stream",
     "text": [
      "{'id1': {'name': ['Sara'], 'class': ['V'], 'subject_integration': ['english, math, science']}, 'id2': {'name': ['David'], 'class': ['V'], 'subject_integration': ['english, math, science']}, 'id4': {'name': ['Surya'], 'class': ['V'], 'subject_integration': ['english, math, science']}}\n"
     ]
    }
   ],
   "source": [
    "# 17. Write a Python program to remove duplicates from the dictionary.\n",
    "\n",
    "student_data = {\n",
    "    'id1': {\n",
    "        'name': ['Sara'],\n",
    "        'class': ['V'],\n",
    "        'subject_integration': ['english, math, science']\n",
    "    },\n",
    "    'id2': {\n",
    "        'name': ['David'],\n",
    "        'class': ['V'],\n",
    "        'subject_integration': ['english, math, science']\n",
    "    },\n",
    "    'id3': {\n",
    "        'name': ['Sara'],\n",
    "        'class': ['V'],\n",
    "        'subject_integration': ['english, math, science']\n",
    "    },\n",
    "    'id4': {\n",
    "        'name': ['Surya'],\n",
    "        'class': ['V'],\n",
    "        'subject_integration': ['english, math, science']\n",
    "    }\n",
    "}\n",
    "\n",
    "new_dict = {}\n",
    "for key, value in student_data.items():\n",
    "    if value not in new_dict.values():\n",
    "        new_dict[key] = value\n",
    "        \n",
    "print(new_dict)"
   ]
  },
  {
   "cell_type": "code",
   "execution_count": 101,
   "id": "fd22b95d",
   "metadata": {},
   "outputs": [
    {
     "name": "stdout",
     "output_type": "stream",
     "text": [
      "The dictionary is empty.\n"
     ]
    }
   ],
   "source": [
    "# 18. Write a Python program to check if a dictionary is empty or not.\n",
    "\n",
    "dict = {}\n",
    "if len(dict) != 0:\n",
    "    print('The dictionanry is not empty.')\n",
    "else:\n",
    "    print('The dictionary is empty.')"
   ]
  },
  {
   "cell_type": "code",
   "execution_count": 103,
   "id": "b7e35a4e",
   "metadata": {},
   "outputs": [
    {
     "name": "stdout",
     "output_type": "stream",
     "text": [
      "{'a': 400, 'b': 400, 'c': 300, 'd': 400}\n"
     ]
    }
   ],
   "source": [
    "# 19. Write a Python program to combine two dictionary by adding values for common keys.\n",
    "d1 = {'a': 100, 'b': 200, 'c':300}\n",
    "d2 = {'a': 300, 'b': 200, 'd':400}\n",
    "# Sample output: Counter({'a': 400, 'b': 400, 'd': 400, 'c': 300})\n",
    "\n",
    "new_dict = {}\n",
    "\n",
    "for key, value in d1.items():\n",
    "    if key not in d2.keys():\n",
    "        new_dict[key] = value\n",
    "    else:\n",
    "        new_dict[key] = value + d2[key]\n",
    "\n",
    "for key, value in d2.items():\n",
    "    if key not in new_dict.keys():\n",
    "        new_dict[key] = value\n",
    "        \n",
    "print(new_dict)"
   ]
  },
  {
   "cell_type": "code",
   "execution_count": 112,
   "id": "0f528682",
   "metadata": {},
   "outputs": [
    {
     "name": "stdout",
     "output_type": "stream",
     "text": [
      "{'S009', 'S007', 'S005', 'S001', 'S002'}\n"
     ]
    }
   ],
   "source": [
    "# 20. Write a Python program to print all distinct values in a dictionary.\n",
    "data =  [{\"V\":\"S001\"}, {\"V\": \"S002\"}, {\"VI\": \"S001\"}, {\"VI\": \"S005\"}, {\"VII\":\"S005\"}, {\"V\":\"S009\"},{\"VIII\":\"S007\"}]\n",
    "# Expected Output : Unique Values: {'S005', 'S002', 'S007', 'S001', 'S009'}\n",
    "\n",
    "new_set = set()\n",
    "\n",
    "for dictionary in data:\n",
    "    for value in dictionary.values():\n",
    "        new_set.add(value)\n",
    "        \n",
    "print(new_set)\n",
    "        "
   ]
  },
  {
   "cell_type": "code",
   "execution_count": null,
   "id": "7bb605f8",
   "metadata": {},
   "outputs": [],
   "source": []
  }
 ],
 "metadata": {
  "kernelspec": {
   "display_name": "Python 3 (ipykernel)",
   "language": "python",
   "name": "python3"
  },
  "language_info": {
   "codemirror_mode": {
    "name": "ipython",
    "version": 3
   },
   "file_extension": ".py",
   "mimetype": "text/x-python",
   "name": "python",
   "nbconvert_exporter": "python",
   "pygments_lexer": "ipython3",
   "version": "3.9.12"
  }
 },
 "nbformat": 4,
 "nbformat_minor": 5
}

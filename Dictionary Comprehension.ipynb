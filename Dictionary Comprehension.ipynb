{
 "cells": [
  {
   "cell_type": "markdown",
   "metadata": {},
   "source": [
    "# Dictionary Comprehension\n",
    "\n",
    "- The basic expression:\n",
    "\n",
    "    - `{key_expression: value_expression for item in iterable}`\n",
    "\n",
    "- The exercises are from [Tutor Joe's Stanley](https://www.tutorjoes.in/python_programming_tutorial/dictionary_comprehensions_exercises_in_python)."
   ]
  },
  {
   "cell_type": "code",
   "execution_count": 13,
   "metadata": {},
   "outputs": [
    {
     "data": {
      "text/plain": [
       "{1: 1, 2: 4, 3: 9, 4: 16, 5: 25, 6: 36, 7: 49, 8: 64, 9: 81, 10: 100}"
      ]
     },
     "execution_count": 13,
     "metadata": {},
     "output_type": "execute_result"
    }
   ],
   "source": [
    "\"\"\"\n",
    "1. Create a dictionary of squares of numbers from 1 to 10\n",
    "\n",
    "Sample Output\n",
    "\n",
    "{1: 1, 2: 4, 3: 9, 4: 16, 5: 25, 6: 36, 7: 49, 8: 64, 9: 81, 10: 100}\n",
    "\"\"\"\n",
    "\n",
    "squares_of_numbers = {x:x**2 for x in range(1, 11)}\n",
    "squares_of_numbers\n"
   ]
  },
  {
   "cell_type": "code",
   "execution_count": 14,
   "metadata": {},
   "outputs": [
    {
     "data": {
      "text/plain": [
       "{0: 0,\n",
       " 2: 4,\n",
       " 4: 16,\n",
       " 6: 36,\n",
       " 8: 64,\n",
       " 10: 100,\n",
       " 12: 144,\n",
       " 14: 196,\n",
       " 16: 256,\n",
       " 18: 324,\n",
       " 20: 400}"
      ]
     },
     "execution_count": 14,
     "metadata": {},
     "output_type": "execute_result"
    }
   ],
   "source": [
    "\"\"\"\n",
    "2. Create a dictionary of even numbers as keys and their squares as values\n",
    "\n",
    "Sample Output\n",
    "\n",
    "{0: 0, 2: 4, 4: 16, 6: 36, 8: 64, 10: 100, 12: 144, 14: 196, 16: 256, 18: 324, 20: 400}\n",
    "\"\"\"\n",
    "\n",
    "even_squares = {x: x**2 for x in range(0, 21) if x % 2 == 0}\n",
    "even_squares"
   ]
  },
  {
   "cell_type": "code",
   "execution_count": 19,
   "metadata": {},
   "outputs": [
    {
     "data": {
      "text/plain": [
       "{'My': 2, \"daughter's\": 10, 'name': 4, 'is': 2, 'Dahee.': 6}"
      ]
     },
     "execution_count": 19,
     "metadata": {},
     "output_type": "execute_result"
    }
   ],
   "source": [
    "\"\"\"\n",
    "3. Create a dictionary of words and their lengths from a sentence\n",
    "\n",
    "Sample Output\n",
    "\n",
    "Enter String : Python is awesome\n",
    "\n",
    "{'Python': 6, 'is': 2, 'awesome': 7}\n",
    "\"\"\"\n",
    "\n",
    "s = \"My daughter's name is Dahee.\"\n",
    "list_of_words = s.split(' ')\n",
    "words_lengths = {word:len(word) for word in list_of_words}\n",
    "words_lengths"
   ]
  },
  {
   "cell_type": "code",
   "execution_count": 20,
   "metadata": {},
   "outputs": [
    {
     "data": {
      "text/plain": [
       "{'I': 'i',\n",
       " ' ': ' ',\n",
       " 'p': 'p',\n",
       " 'r': 'r',\n",
       " 'a': 'a',\n",
       " 'c': 'c',\n",
       " 't': 't',\n",
       " 'i': 'i',\n",
       " 'e': 'e',\n",
       " 'o': 'o',\n",
       " 'g': 'g',\n",
       " 'n': 'n',\n",
       " 'M': 'm',\n",
       " 's': 's',\n",
       " 'f': 'f',\n",
       " '.': '.'}"
      ]
     },
     "execution_count": 20,
     "metadata": {},
     "output_type": "execute_result"
    }
   ],
   "source": [
    "\"\"\"\n",
    "4. Create a dictionary of lowercase characters from a string\n",
    "\n",
    "Sample Output\n",
    "\n",
    "Hello World\n",
    "\n",
    "{'H': 'h', 'e': 'e', 'l': 'l', 'o': 'o', 'W': 'w', 'r': 'r', 'd': 'd'}\n",
    "\"\"\"\n",
    "\n",
    "s = 'I practice to get into Microsoft.'\n",
    "dict_lower_case = {character : character.lower() for character in s}\n",
    "dict_lower_case"
   ]
  },
  {
   "cell_type": "code",
   "execution_count": 21,
   "metadata": {},
   "outputs": [
    {
     "data": {
      "text/plain": [
       "{1: 1, 2: 8, 3: 27, 4: 64, 5: 125, 6: 216, 7: 343, 8: 512, 9: 729, 10: 1000}"
      ]
     },
     "execution_count": 21,
     "metadata": {},
     "output_type": "execute_result"
    }
   ],
   "source": [
    "\"\"\"\n",
    "5. Create a dictionary of numbers and their cubes\n",
    "\n",
    "Sample Output\n",
    "\n",
    "[1, 2, 3, 4, 5]\n",
    "\n",
    "{1: 1, 2: 8, 3: 27, 4: 64, 5: 125}\n",
    "\"\"\"\n",
    "\n",
    "number_cubes = {number: number**3 for number in range(1,11)}\n",
    "number_cubes"
   ]
  },
  {
   "cell_type": "code",
   "execution_count": 26,
   "metadata": {},
   "outputs": [
    {
     "data": {
      "text/plain": [
       "{2: 4, 4: 16, 6: 36, 8: 64, 10: 100}"
      ]
     },
     "execution_count": 26,
     "metadata": {},
     "output_type": "execute_result"
    }
   ],
   "source": [
    "\"\"\"\n",
    "6. Create a dictionary of numbers and their squares, excluding odd numbers\n",
    "\n",
    "Sample Output\n",
    "\n",
    "[1, 2, 3, 4, 5, 6, 7, 8, 9, 10]\n",
    "\n",
    "{2: 4, 4: 16, 6: 36, 8: 64, 10: 100}\n",
    "\"\"\"\n",
    "\n",
    "even_number_squares = {number : number**2 for number in range(1,11) if number % 2 == 0}\n",
    "even_number_squares"
   ]
  },
  {
   "cell_type": "code",
   "execution_count": 40,
   "metadata": {},
   "outputs": [
    {
     "data": {
      "text/plain": [
       "{1: False,\n",
       " 2: True,\n",
       " 3: True,\n",
       " 4: False,\n",
       " 5: True,\n",
       " 6: False,\n",
       " 7: True,\n",
       " 8: False,\n",
       " 9: False,\n",
       " 10: False,\n",
       " 11: True}"
      ]
     },
     "execution_count": 40,
     "metadata": {},
     "output_type": "execute_result"
    }
   ],
   "source": [
    "\"\"\"\n",
    "7. Create a dictionary of numbers and their prime status\n",
    "\n",
    "Sample Output\n",
    "\n",
    "[1, 2, 3, 4, 5, 6, 7, 8, 9, 10]\n",
    "\n",
    "{1: False, 2: True, 3: True, 4: False, 5: True, 6: False, 7: True, 8: False, 9: False, 10: False}\n",
    "\"\"\"\n",
    "\n",
    "def prime_check(number):\n",
    "    if number <= 1:\n",
    "        return False\n",
    "    else:\n",
    "        for divisor in range(2, number):\n",
    "            if number % divisor == 0:\n",
    "                return False\n",
    "        return True\n",
    "\n",
    "prime_dict = {number : prime_check(number) for number in range(1,12)}\n",
    "prime_dict"
   ]
  },
  {
   "cell_type": "code",
   "execution_count": 41,
   "metadata": {},
   "outputs": [
    {
     "data": {
      "text/plain": [
       "{'I': 73,\n",
       " ' ': 32,\n",
       " 'a': 97,\n",
       " 'm': 109,\n",
       " 'l': 108,\n",
       " 'e': 101,\n",
       " 'r': 114,\n",
       " 'n': 110,\n",
       " 'i': 105,\n",
       " 'g': 103,\n",
       " 'D': 68,\n",
       " 't': 116,\n",
       " 'S': 83,\n",
       " 'c': 99,\n",
       " '.': 46}"
      ]
     },
     "execution_count": 41,
     "metadata": {},
     "output_type": "execute_result"
    }
   ],
   "source": [
    "\"\"\"  \n",
    "8. Create a dictionary of characters and their ASCII values from a string (Hint: Use ord(STRING) to return the ASCII value of a character.)\n",
    "\n",
    "Sample Output\n",
    "\n",
    "Tutor Joes\n",
    "\n",
    "{'T': 84, 'u': 117, 't': 116, 'o': 111, 'r': 114, ' ': 32, 'J': 74, 'e': 101, 's': 115}\n",
    "\"\"\"  \n",
    "\n",
    "s = 'I am learning Data Science.'\n",
    "ascii_chars = {char : ord(char) for char in s}\n",
    "ascii_chars"
   ]
  },
  {
   "cell_type": "code",
   "execution_count": 43,
   "metadata": {},
   "outputs": [
    {
     "data": {
      "text/plain": [
       "{'Ji Yeol': 3, 'Lack Young': 3, 'Dahee': 3}"
      ]
     },
     "execution_count": 43,
     "metadata": {},
     "output_type": "execute_result"
    }
   ],
   "source": [
    "\"\"\"  \n",
    "9. Create a dictionary of words and their vowels from a list of strings\n",
    "\n",
    "Sample Output\n",
    "\n",
    "['apple', 'banana', 'cherry']\n",
    "\n",
    "{'apple': 2, 'banana': 3, 'cherry': 1}\n",
    "\"\"\"\n",
    "\n",
    "def vowel_count(word):\n",
    "    vowel_list = []\n",
    "    for character in word:\n",
    "        if character in ['a','e','i','o','u']:\n",
    "            vowel_list.append(character)\n",
    "    return len(vowel_list)\n",
    "\n",
    "word_list = ['Ji Yeol', 'Lack Young', 'Dahee']\n",
    "\n",
    "vowel_dict = {word : vowel_count(word) for word in word_list}\n",
    "vowel_dict"
   ]
  },
  {
   "cell_type": "code",
   "execution_count": 47,
   "metadata": {},
   "outputs": [
    {
     "data": {
      "text/plain": [
       "{'Ji Yeol': ' JYeilo', 'Lack Young': ' LYacgknou', 'Dahee': 'Daeeh'}"
      ]
     },
     "execution_count": 47,
     "metadata": {},
     "output_type": "execute_result"
    }
   ],
   "source": [
    "\"\"\"  \n",
    "10. Create a dictionary of words with the letters sorted\n",
    "\n",
    "Sample Output\n",
    "\n",
    "['python', 'programming', 'language']\n",
    "\n",
    "{'python': 'hnopty', 'programming': 'aggimmnoprr', 'language': 'aaegglnu'}\n",
    "\"\"\"\n",
    "\n",
    "def sort_strings(word):\n",
    "    sorted_word = sorted(word) # sorted() function returns a list of characters in ascending order.\n",
    "    sorted_word = ''.join(sorted_word)\n",
    "    return sorted_word\n",
    "\n",
    "sort_word_dict = {word : sort_strings(word) for word in ['Ji Yeol', 'Lack Young', 'Dahee']}\n",
    "sort_word_dict"
   ]
  },
  {
   "cell_type": "code",
   "execution_count": null,
   "metadata": {},
   "outputs": [],
   "source": []
  }
 ],
 "metadata": {
  "kernelspec": {
   "display_name": "PythonEnv",
   "language": "python",
   "name": "python3"
  },
  "language_info": {
   "codemirror_mode": {
    "name": "ipython",
    "version": 3
   },
   "file_extension": ".py",
   "mimetype": "text/x-python",
   "name": "python",
   "nbconvert_exporter": "python",
   "pygments_lexer": "ipython3",
   "version": "3.11.8"
  }
 },
 "nbformat": 4,
 "nbformat_minor": 2
}

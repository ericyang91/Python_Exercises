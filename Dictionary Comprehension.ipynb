{
 "cells": [
  {
   "cell_type": "markdown",
   "metadata": {},
   "source": [
    "# Dictionary Comprehension\n",
    "\n",
    "- The basic expression:\n",
    "\n",
    "    - `{key_expression: value_expression for item in iterable}`\n",
    "\n",
    "- The exercises are from [Tutor Joe's Stanley](https://www.tutorjoes.in/python_programming_tutorial/dictionary_comprehensions_exercises_in_python)."
   ]
  },
  {
   "cell_type": "code",
   "execution_count": 13,
   "metadata": {},
   "outputs": [
    {
     "data": {
      "text/plain": [
       "{1: 1, 2: 4, 3: 9, 4: 16, 5: 25, 6: 36, 7: 49, 8: 64, 9: 81, 10: 100}"
      ]
     },
     "execution_count": 13,
     "metadata": {},
     "output_type": "execute_result"
    }
   ],
   "source": [
    "\"\"\"\n",
    "1. Create a dictionary of squares of numbers from 1 to 10\n",
    "\n",
    "Sample Output\n",
    "\n",
    "{1: 1, 2: 4, 3: 9, 4: 16, 5: 25, 6: 36, 7: 49, 8: 64, 9: 81, 10: 100}\n",
    "\"\"\"\n",
    "\n",
    "squares_of_numbers = {x:x**2 for x in range(1, 11)}\n",
    "squares_of_numbers\n"
   ]
  },
  {
   "cell_type": "code",
   "execution_count": 14,
   "metadata": {},
   "outputs": [
    {
     "data": {
      "text/plain": [
       "{0: 0,\n",
       " 2: 4,\n",
       " 4: 16,\n",
       " 6: 36,\n",
       " 8: 64,\n",
       " 10: 100,\n",
       " 12: 144,\n",
       " 14: 196,\n",
       " 16: 256,\n",
       " 18: 324,\n",
       " 20: 400}"
      ]
     },
     "execution_count": 14,
     "metadata": {},
     "output_type": "execute_result"
    }
   ],
   "source": [
    "\"\"\"\n",
    "2. Create a dictionary of even numbers as keys and their squares as values\n",
    "\n",
    "Sample Output\n",
    "\n",
    "{0: 0, 2: 4, 4: 16, 6: 36, 8: 64, 10: 100, 12: 144, 14: 196, 16: 256, 18: 324, 20: 400}\n",
    "\"\"\"\n",
    "\n",
    "even_squares = {x: x**2 for x in range(0, 21) if x % 2 == 0}\n",
    "even_squares"
   ]
  },
  {
   "cell_type": "code",
   "execution_count": 19,
   "metadata": {},
   "outputs": [
    {
     "data": {
      "text/plain": [
       "{'My': 2, \"daughter's\": 10, 'name': 4, 'is': 2, 'Dahee.': 6}"
      ]
     },
     "execution_count": 19,
     "metadata": {},
     "output_type": "execute_result"
    }
   ],
   "source": [
    "\"\"\"\n",
    "3. Create a dictionary of words and their lengths from a sentence\n",
    "\n",
    "Sample Output\n",
    "\n",
    "Enter String : Python is awesome\n",
    "\n",
    "{'Python': 6, 'is': 2, 'awesome': 7}\n",
    "\"\"\"\n",
    "\n",
    "s = \"My daughter's name is Dahee.\"\n",
    "list_of_words = s.split(' ')\n",
    "words_lengths = {word:len(word) for word in list_of_words}\n",
    "words_lengths"
   ]
  },
  {
   "cell_type": "code",
   "execution_count": 20,
   "metadata": {},
   "outputs": [
    {
     "data": {
      "text/plain": [
       "{'I': 'i',\n",
       " ' ': ' ',\n",
       " 'p': 'p',\n",
       " 'r': 'r',\n",
       " 'a': 'a',\n",
       " 'c': 'c',\n",
       " 't': 't',\n",
       " 'i': 'i',\n",
       " 'e': 'e',\n",
       " 'o': 'o',\n",
       " 'g': 'g',\n",
       " 'n': 'n',\n",
       " 'M': 'm',\n",
       " 's': 's',\n",
       " 'f': 'f',\n",
       " '.': '.'}"
      ]
     },
     "execution_count": 20,
     "metadata": {},
     "output_type": "execute_result"
    }
   ],
   "source": [
    "\"\"\"\n",
    "4. Create a dictionary of lowercase characters from a string\n",
    "\n",
    "Sample Output\n",
    "\n",
    "Hello World\n",
    "\n",
    "{'H': 'h', 'e': 'e', 'l': 'l', 'o': 'o', 'W': 'w', 'r': 'r', 'd': 'd'}\n",
    "\"\"\"\n",
    "\n",
    "s = 'I practice to get into Microsoft.'\n",
    "dict_lower_case = {character : character.lower() for character in s}\n",
    "dict_lower_case"
   ]
  },
  {
   "cell_type": "code",
   "execution_count": 21,
   "metadata": {},
   "outputs": [
    {
     "data": {
      "text/plain": [
       "{1: 1, 2: 8, 3: 27, 4: 64, 5: 125, 6: 216, 7: 343, 8: 512, 9: 729, 10: 1000}"
      ]
     },
     "execution_count": 21,
     "metadata": {},
     "output_type": "execute_result"
    }
   ],
   "source": [
    "\"\"\"\n",
    "5. Create a dictionary of numbers and their cubes\n",
    "\n",
    "Sample Output\n",
    "\n",
    "[1, 2, 3, 4, 5]\n",
    "\n",
    "{1: 1, 2: 8, 3: 27, 4: 64, 5: 125}\n",
    "\"\"\"\n",
    "\n",
    "number_cubes = {number: number**3 for number in range(1,11)}\n",
    "number_cubes"
   ]
  },
  {
   "cell_type": "code",
   "execution_count": 26,
   "metadata": {},
   "outputs": [
    {
     "data": {
      "text/plain": [
       "{2: 4, 4: 16, 6: 36, 8: 64, 10: 100}"
      ]
     },
     "execution_count": 26,
     "metadata": {},
     "output_type": "execute_result"
    }
   ],
   "source": [
    "\"\"\"\n",
    "6. Create a dictionary of numbers and their squares, excluding odd numbers\n",
    "\n",
    "Sample Output\n",
    "\n",
    "[1, 2, 3, 4, 5, 6, 7, 8, 9, 10]\n",
    "\n",
    "{2: 4, 4: 16, 6: 36, 8: 64, 10: 100}\n",
    "\"\"\"\n",
    "\n",
    "even_number_squares = {number : number**2 for number in range(1,11) if number % 2 == 0}\n",
    "even_number_squares"
   ]
  },
  {
   "cell_type": "code",
   "execution_count": 40,
   "metadata": {},
   "outputs": [
    {
     "data": {
      "text/plain": [
       "{1: False,\n",
       " 2: True,\n",
       " 3: True,\n",
       " 4: False,\n",
       " 5: True,\n",
       " 6: False,\n",
       " 7: True,\n",
       " 8: False,\n",
       " 9: False,\n",
       " 10: False,\n",
       " 11: True}"
      ]
     },
     "execution_count": 40,
     "metadata": {},
     "output_type": "execute_result"
    }
   ],
   "source": [
    "\"\"\"\n",
    "7. Create a dictionary of numbers and their prime status\n",
    "\n",
    "Sample Output\n",
    "\n",
    "[1, 2, 3, 4, 5, 6, 7, 8, 9, 10]\n",
    "\n",
    "{1: False, 2: True, 3: True, 4: False, 5: True, 6: False, 7: True, 8: False, 9: False, 10: False}\n",
    "\"\"\"\n",
    "\n",
    "def prime_check(number):\n",
    "    if number <= 1:\n",
    "        return False\n",
    "    else:\n",
    "        for divisor in range(2, number):\n",
    "            if number % divisor == 0:\n",
    "                return False\n",
    "        return True\n",
    "\n",
    "prime_dict = {number : prime_check(number) for number in range(1,12)}\n",
    "prime_dict"
   ]
  },
  {
   "cell_type": "code",
   "execution_count": 41,
   "metadata": {},
   "outputs": [
    {
     "data": {
      "text/plain": [
       "{'I': 73,\n",
       " ' ': 32,\n",
       " 'a': 97,\n",
       " 'm': 109,\n",
       " 'l': 108,\n",
       " 'e': 101,\n",
       " 'r': 114,\n",
       " 'n': 110,\n",
       " 'i': 105,\n",
       " 'g': 103,\n",
       " 'D': 68,\n",
       " 't': 116,\n",
       " 'S': 83,\n",
       " 'c': 99,\n",
       " '.': 46}"
      ]
     },
     "execution_count": 41,
     "metadata": {},
     "output_type": "execute_result"
    }
   ],
   "source": [
    "\"\"\"  \n",
    "8. Create a dictionary of characters and their ASCII values from a string (Hint: Use ord(STRING) to return the ASCII value of a character.)\n",
    "\n",
    "Sample Output\n",
    "\n",
    "Tutor Joes\n",
    "\n",
    "{'T': 84, 'u': 117, 't': 116, 'o': 111, 'r': 114, ' ': 32, 'J': 74, 'e': 101, 's': 115}\n",
    "\"\"\"  \n",
    "\n",
    "s = 'I am learning Data Science.'\n",
    "ascii_chars = {char : ord(char) for char in s}\n",
    "ascii_chars"
   ]
  },
  {
   "cell_type": "code",
   "execution_count": 43,
   "metadata": {},
   "outputs": [
    {
     "data": {
      "text/plain": [
       "{'Ji Yeol': 3, 'Lack Young': 3, 'Dahee': 3}"
      ]
     },
     "execution_count": 43,
     "metadata": {},
     "output_type": "execute_result"
    }
   ],
   "source": [
    "\"\"\"  \n",
    "9. Create a dictionary of words and their vowels from a list of strings\n",
    "\n",
    "Sample Output\n",
    "\n",
    "['apple', 'banana', 'cherry']\n",
    "\n",
    "{'apple': 2, 'banana': 3, 'cherry': 1}\n",
    "\"\"\"\n",
    "\n",
    "def vowel_count(word):\n",
    "    vowel_list = []\n",
    "    for character in word:\n",
    "        if character in ['a','e','i','o','u']:\n",
    "            vowel_list.append(character)\n",
    "    return len(vowel_list)\n",
    "\n",
    "word_list = ['Ji Yeol', 'Lack Young', 'Dahee']\n",
    "\n",
    "vowel_dict = {word : vowel_count(word) for word in word_list}\n",
    "vowel_dict"
   ]
  },
  {
   "cell_type": "code",
   "execution_count": 47,
   "metadata": {},
   "outputs": [
    {
     "data": {
      "text/plain": [
       "{'Ji Yeol': ' JYeilo', 'Lack Young': ' LYacgknou', 'Dahee': 'Daeeh'}"
      ]
     },
     "execution_count": 47,
     "metadata": {},
     "output_type": "execute_result"
    }
   ],
   "source": [
    "\"\"\"  \n",
    "10. Create a dictionary of words with the letters sorted\n",
    "\n",
    "Sample Output\n",
    "\n",
    "['python', 'programming', 'language']\n",
    "\n",
    "{'python': 'hnopty', 'programming': 'aggimmnoprr', 'language': 'aaegglnu'}\n",
    "\"\"\"\n",
    "\n",
    "def sort_strings(word):\n",
    "    sorted_word = sorted(word) # sorted() function returns a list of characters in ascending order.\n",
    "    sorted_word = ''.join(sorted_word)\n",
    "    return sorted_word\n",
    "\n",
    "sort_word_dict = {word : sort_strings(word) for word in ['Ji Yeol', 'Lack Young', 'Dahee']}\n",
    "sort_word_dict"
   ]
  },
  {
   "cell_type": "code",
   "execution_count": 1,
   "metadata": {},
   "outputs": [
    {
     "name": "stdout",
     "output_type": "stream",
     "text": [
      "{'banana': 6, 'cherry': 6}\n"
     ]
    }
   ],
   "source": [
    "\"\"\"\n",
    "11. Create a dictionary of words and their lengths, but only for words with more than 5 letters\n",
    " \n",
    "Sample Output\n",
    "\n",
    "['apple', 'banana', 'cherry', 'date']\n",
    "\n",
    "{'banana': 6, 'cherry': 6}\n",
    "\n",
    "\"\"\"\n",
    "\n",
    "word_length = {word : len(word) for word in ['banana', 'apple', 'cherry', 'date'] if len(word) > 5}\n",
    "print(word_length)"
   ]
  },
  {
   "cell_type": "code",
   "execution_count": 2,
   "metadata": {},
   "outputs": [
    {
     "name": "stdout",
     "output_type": "stream",
     "text": [
      "{'d': 1, 'a': 1, 'h': 1, 'e': 2}\n"
     ]
    }
   ],
   "source": [
    "\"\"\"\n",
    "12. Create a dictionary of characters and their frequency in a string\n",
    "\n",
    "Sample Output\n",
    "\n",
    "hello world\n",
    "\n",
    "{'l': 3, ' ': 1, 'r': 1, 'h': 1, 'd': 1, 'o': 2, 'e': 1, 'w': 1}\n",
    "\n",
    "\"\"\"\n",
    "\n",
    "s = 'dahee'\n",
    "char_frequency = {character: s.count(character) for character in s}\n",
    "print(char_frequency)"
   ]
  },
  {
   "cell_type": "code",
   "execution_count": 3,
   "metadata": {},
   "outputs": [
    {
     "name": "stdout",
     "output_type": "stream",
     "text": [
      "{'Ji Yeol': 'loeY iJ', 'Lack Young': 'gnuoY kcaL', 'Dahee': 'eehaD'}\n"
     ]
    }
   ],
   "source": [
    "\"\"\"\n",
    "13. Create a dictionary of words and their reversed forms\n",
    "\n",
    "Sample Output\n",
    "\n",
    "['apple', 'banana', 'cherry']\n",
    "\n",
    "{'apple': 'elppa', 'banana': 'ananab', 'cherry': 'yrrehc'}\n",
    "\n",
    "\"\"\" \n",
    "\n",
    "reversed_words = {word : word[::-1] for word in ['Ji Yeol', 'Lack Young', 'Dahee']}\n",
    "print(reversed_words)"
   ]
  },
  {
   "cell_type": "code",
   "execution_count": 4,
   "metadata": {},
   "outputs": [
    {
     "name": "stdout",
     "output_type": "stream",
     "text": [
      "{0: 0, 2: 4, 4: 16, 6: 36, 8: 64, 10: 100, 12: 144, 14: 196, 16: 256, 18: 324}\n"
     ]
    }
   ],
   "source": [
    "\"\"\"\n",
    "14. Create a dictionary of numbers and their squares, but only for even numbers\n",
    "\n",
    "Sample Output\n",
    "\n",
    "[1, 2, 3, 4, 5, 6, 7, 8, 9, 10]\n",
    "\n",
    "{2: 4, 4: 16, 6: 36, 8: 64, 10: 100}\n",
    "\n",
    "\"\"\"\n",
    "\n",
    "even_number_squares = {number : number**2 for number in range(20) if number % 2 == 0}\n",
    "print(even_number_squares)"
   ]
  },
  {
   "cell_type": "code",
   "execution_count": 5,
   "metadata": {},
   "outputs": [
    {
     "name": "stdout",
     "output_type": "stream",
     "text": [
      "{1: [1], 2: [1, 2], 3: [1, 3], 4: [1, 2, 4], 5: [1, 5], 6: [1, 2, 3, 6], 7: [1, 7], 8: [1, 2, 4, 8], 9: [1, 3, 9], 10: [1, 2, 5, 10], 11: [1, 11], 12: [1, 2, 3, 4, 6, 12], 13: [1, 13], 14: [1, 2, 7, 14], 15: [1, 3, 5, 15], 16: [1, 2, 4, 8, 16], 17: [1, 17], 18: [1, 2, 3, 6, 9, 18], 19: [1, 19], 20: [1, 2, 4, 5, 10, 20]}\n"
     ]
    }
   ],
   "source": [
    "\"\"\"\n",
    "15. Create a dictionary of numbers and their factors\n",
    "\n",
    "Sample Output\n",
    "\n",
    "[1, 2, 3, 4, 5]\n",
    "\n",
    "{1: [1], 2: [1, 2], 3: [1, 3], 4: [1, 2, 4], 5: [1, 5]}\n",
    "\"\"\"\n",
    "\n",
    "factors = {number : [factor for factor in range(1, number + 1) if number % factor == 0] for number in range(1,21)}\n",
    "print(factors)"
   ]
  },
  {
   "cell_type": "code",
   "execution_count": 6,
   "metadata": {},
   "outputs": [
    {
     "name": "stdout",
     "output_type": "stream",
     "text": [
      "{'Ji Yeol': 'JI YEOL', 'Lack Young': 'LACK YOUNG', 'Dahee': 'DAHEE', 'Kyung Suk': 'KYUNG SUK', 'Chang Ho': 'CHANG HO'}\n"
     ]
    }
   ],
   "source": [
    "\"\"\"\n",
    "16. Create a dictionary of words and their uppercase forms\n",
    "\n",
    "Sample Output\n",
    "\n",
    "['apple', 'banana', 'cherry']\n",
    "\n",
    "{'apple': 'APPLE', 'banana': 'BANANA', 'cherry': 'CHERRY'}\n",
    "\"\"\"\n",
    "\n",
    "family = ['Ji Yeol', 'Lack Young', 'Dahee', 'Kyung Suk', 'Chang Ho']\n",
    "family_uppercase = {member : member.upper() for member in family}\n",
    "print(family_uppercase)"
   ]
  },
  {
   "cell_type": "code",
   "execution_count": 10,
   "metadata": {},
   "outputs": [
    {
     "name": "stdout",
     "output_type": "stream",
     "text": [
      "{0: 'even', 1: 'odd', 2: 'even', 3: 'odd', 4: 'even', 5: 'odd', 6: 'even', 7: 'odd', 8: 'even', 9: 'odd', 10: 'even', 11: 'odd', 12: 'even', 13: 'odd', 14: 'even', 15: 'odd', 16: 'even', 17: 'odd', 18: 'even', 19: 'odd'}\n"
     ]
    }
   ],
   "source": [
    "\"\"\"\n",
    "17. Create a dictionary of numbers and their parity (even or odd)\n",
    "\n",
    "Sample Output\n",
    "\n",
    "[1, 2, 3, 4, 5, 6, 7, 8, 9, 10]\n",
    "\n",
    "{1: 'odd', 2: 'even', 3: 'odd', 4: 'even', 5: 'odd', 6: 'even', 7: 'odd', 8: 'even', 9: 'odd', 10: 'even'}\n",
    "\"\"\"\n",
    "\n",
    "def odd_even(number):\n",
    "    if number % 2 == 0:\n",
    "        return 'even'\n",
    "    else:\n",
    "        return 'odd'\n",
    "    \n",
    "odd_or_even = {number : odd_even(number) for number in range(20)}\n",
    "print(odd_or_even)"
   ]
  },
  {
   "cell_type": "code",
   "execution_count": 11,
   "metadata": {},
   "outputs": [
    {
     "name": "stdout",
     "output_type": "stream",
     "text": [
      "{0: '0b0', 1: '0b1', 2: '0b10', 3: '0b11', 4: '0b100', 5: '0b101', 6: '0b110', 7: '0b111', 8: '0b1000', 9: '0b1001'}\n"
     ]
    }
   ],
   "source": [
    "\"\"\"\n",
    "18. Create a dictionary of numbers and their binary representations\n",
    "\n",
    "Sample Output\n",
    "\n",
    "[1, 2, 3, 4, 5]\n",
    "\n",
    "{1: '0b1', 2: '0b10', 3: '0b11', 4: '0b100', 5: '0b101'}\n",
    "\"\"\"\n",
    "\n",
    "binary_rep = {number : bin(number) for number in range(10)}\n",
    "print(binary_rep)"
   ]
  },
  {
   "cell_type": "code",
   "execution_count": 14,
   "metadata": {},
   "outputs": [
    {
     "name": "stdout",
     "output_type": "stream",
     "text": [
      "{0: 1, 1: 1, 2: 2, 3: 6, 4: 24, 5: 120, 6: 720, 7: 5040}\n"
     ]
    }
   ],
   "source": [
    "\"\"\" \n",
    "19. Create a dictionary of numbers and their factorials\n",
    "\n",
    "Sample Output\n",
    "\n",
    "[1, 2, 3, 4, 5]\n",
    "\n",
    "{1: 1, 2: 2, 3: 6, 4: 24, 5: 120}\n",
    "\"\"\"\n",
    "\n",
    "def factorial(number):\n",
    "    product = 1\n",
    "    for n in range(1, number + 1):\n",
    "        product *= n\n",
    "    return product\n",
    "\n",
    "number_factorials = {number : factorial(number) for number in range(8)}\n",
    "print(number_factorials)"
   ]
  },
  {
   "cell_type": "code",
   "execution_count": 15,
   "metadata": {},
   "outputs": [
    {
     "name": "stdout",
     "output_type": "stream",
     "text": [
      "{3: 9, 6: 36, 9: 81}\n"
     ]
    }
   ],
   "source": [
    "\"\"\" \n",
    "20. Create a dictionary of numbers and their squares, but only for multiples of 3\n",
    "\n",
    "Sample Output\n",
    "\n",
    "[1, 2, 3, 4, 5, 6, 7, 8, 9, 10]\n",
    "\n",
    "{3: 9, 6: 36, 9: 81}\n",
    "\"\"\"\n",
    "\n",
    "squares_for_multiples_of_threes = {number : number**2 for number in range(1, 11) if number % 3 == 0}\n",
    "print(squares_for_multiples_of_threes)"
   ]
  },
  {
   "cell_type": "code",
   "execution_count": null,
   "metadata": {},
   "outputs": [],
   "source": []
  }
 ],
 "metadata": {
  "kernelspec": {
   "display_name": "PythonEnv",
   "language": "python",
   "name": "python3"
  },
  "language_info": {
   "codemirror_mode": {
    "name": "ipython",
    "version": 3
   },
   "file_extension": ".py",
   "mimetype": "text/x-python",
   "name": "python",
   "nbconvert_exporter": "python",
   "pygments_lexer": "ipython3",
   "version": "3.11.8"
  }
 },
 "nbformat": 4,
 "nbformat_minor": 2
}

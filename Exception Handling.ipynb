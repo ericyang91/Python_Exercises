{
 "cells": [
  {
   "cell_type": "code",
   "execution_count": 3,
   "id": "fde07737-2992-484a-83a0-28766ec562c5",
   "metadata": {},
   "outputs": [
    {
     "name": "stdout",
     "output_type": "stream",
     "text": [
      "Invalid entry. Enter an integer.\n",
      "End\n",
      "Invalid entry. Enter an integer.\n",
      "End\n",
      "Thank you. The integer is 5.\n",
      "End\n"
     ]
    }
   ],
   "source": [
    "\"\"\"\n",
    "Suppose that you want to get an integer from a user, but you are concerned that the user may type something else other than an integer. \n",
    "Write a piece of code, as concise as possible, that asks the user for input until an integer is entered by the user.\n",
    "\"\"\"\n",
    "\n",
    "def get_integer():\n",
    "    while True:\n",
    "        try:\n",
    "            integer = int(input('Please write your integer here: '))\n",
    "        except ValueError:\n",
    "            print('Invalid entry. Enter an integer.')\n",
    "        else:\n",
    "            print(f'Thank you. The integer is {integer}.')\n",
    "            break\n",
    "        finally:\n",
    "            print('End')\n",
    "\n",
    "get_integer()\n"
   ]
  },
  {
   "cell_type": "markdown",
   "id": "3c77127d",
   "metadata": {},
   "source": [
    "What error will occur when running the following code?\n",
    "    a. s = 8 + 'a'\n",
    "        - TypeError\n",
    "    b. students = ['John', 'May', 'Jim']\n",
    "        - No error\n",
    "    c. total = sum(12, 90, 32, 'one hundred')\n",
    "        - TypeError"
   ]
  },
  {
   "cell_type": "markdown",
   "id": "4e3dbcb2",
   "metadata": {},
   "source": [
    "What’s wrong with the following code?\n",
    "\n",
    "```python\n",
    "idx = 1\n",
    "product = 0\n",
    "while idx>10:\n",
    "    product *= idx\n",
    "    idx++\n",
    "print(product)\n",
    "```\n",
    "\n",
    "The while condition will never be True.\n",
    "Product will always be zero.\n",
    "++ is not a valid operator.\n",
    "\n"
   ]
  },
  {
   "cell_type": "markdown",
   "id": "a866afe6",
   "metadata": {},
   "source": []
  }
 ],
 "metadata": {
  "kernelspec": {
   "display_name": "Python 3 (ipykernel)",
   "language": "python",
   "name": "python3"
  },
  "language_info": {
   "codemirror_mode": {
    "name": "ipython",
    "version": 3
   },
   "file_extension": ".py",
   "mimetype": "text/x-python",
   "name": "python",
   "nbconvert_exporter": "python",
   "pygments_lexer": "ipython3",
   "version": "3.11.8"
  }
 },
 "nbformat": 4,
 "nbformat_minor": 5
}

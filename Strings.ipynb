{
 "cells": [
  {
   "cell_type": "code",
   "execution_count": 2,
   "id": "ddce704a",
   "metadata": {},
   "outputs": [
    {
     "name": "stdout",
     "output_type": "stream",
     "text": [
      "6\n"
     ]
    }
   ],
   "source": [
    "# 1. Write a Python program to calculate the length of a string.\n",
    "\n",
    "def len_String(string):\n",
    "    return len(string)\n",
    "\n",
    "string = 'Google'\n",
    "\n",
    "print(len_String(string))"
   ]
  },
  {
   "cell_type": "code",
   "execution_count": 13,
   "id": "919af445",
   "metadata": {},
   "outputs": [
    {
     "name": "stdout",
     "output_type": "stream",
     "text": [
      "[['G', 1], ['o', 2], ['g', 1], ['l', 1], ['e', 1]]\n"
     ]
    }
   ],
   "source": [
    "# 2. Write a Python program to count the number of characters (character frequency) in a string.\n",
    "\n",
    "def char_frequency(string):\n",
    "    dict = {}\n",
    "    for character in string:\n",
    "        if character not in dict:\n",
    "            dict[character] = 1\n",
    "        else:\n",
    "            dict[character] += 1\n",
    "    \n",
    "    result = []\n",
    "    for key, value in dict.items():\n",
    "        result.append([key, value])\n",
    "    return result\n",
    "    \n",
    "string = 'Google'\n",
    "print(char_frequency(string))    "
   ]
  },
  {
   "cell_type": "code",
   "execution_count": 14,
   "id": "278e1d0e",
   "metadata": {},
   "outputs": [
    {
     "name": "stdout",
     "output_type": "stream",
     "text": [
      "Mift\n"
     ]
    }
   ],
   "source": [
    "# 3. Write a Python program to get a string made of the first 2 and last 2 characters of a given string. \n",
    "# If the string length is less than 2, return the empty string instead.\n",
    "\n",
    "def first_two_last_two(string):\n",
    "    if len(string)<2:\n",
    "        return ''\n",
    "    else:\n",
    "        new_string = string[:2] + string[-2:]\n",
    "        return new_string\n",
    "    \n",
    "string = 'Microsoft'\n",
    "print(first_two_last_two(string))"
   ]
  },
  {
   "cell_type": "code",
   "execution_count": 19,
   "id": "2aa888b2",
   "metadata": {},
   "outputs": [
    {
     "name": "stdout",
     "output_type": "stream",
     "text": [
      "ma$$oth\n"
     ]
    }
   ],
   "source": [
    "# 4. Write a Python program to get a string from a given string where all occurrences of its first char have been \n",
    "# changed to '$', except the first char itself.\n",
    "\n",
    "def change_except_first(string):\n",
    "    first_char = string[0]\n",
    "    remaining_chars = string[1:]\n",
    "    new_remaining = remaining_chars.replace(first_char, '$')\n",
    "    new_string = first_char + new_remaining\n",
    "    return new_string\n",
    "\n",
    "string = 'mammoth'\n",
    "print(change_except_first(string))"
   ]
  },
  {
   "cell_type": "code",
   "execution_count": 21,
   "id": "a646dc30",
   "metadata": {},
   "outputs": [
    {
     "name": "stdout",
     "output_type": "stream",
     "text": [
      "Miogle Gocrosoft\n"
     ]
    }
   ],
   "source": [
    "# 5. Write a Python program to get a single string from two given strings, separated by a space and swap the \n",
    "# first two characters of each string.\n",
    "\n",
    "def string_swap(first_string, second_string):\n",
    "    first_firstTwoChar = first_string[:2]\n",
    "    first_remaining = first_string[2:]\n",
    "    second_firstTwoChar = second_string[:2]\n",
    "    second_remaining = second_string[2:]\n",
    "    new_string = second_firstTwoChar + first_remaining + ' ' + first_firstTwoChar + second_remaining\n",
    "    return new_string\n",
    "\n",
    "first_string = 'Google'\n",
    "second_string = 'Microsoft'\n",
    "print(string_swap(first_string, second_string))"
   ]
  },
  {
   "cell_type": "code",
   "execution_count": 24,
   "id": "51f3ab80",
   "metadata": {},
   "outputs": [
    {
     "name": "stdout",
     "output_type": "stream",
     "text": [
      "Metaing\n"
     ]
    }
   ],
   "source": [
    "# 6. Write a Python program to add 'ing' at the end of a given string (length should be at least 3). \n",
    "# If the given string already ends with 'ing', add 'ly' instead. If the string length of the given string is less than 3, \n",
    "# leave it unchanged.\n",
    "\n",
    "def ing_ly(string):\n",
    "    if len(string)<3:\n",
    "        return string\n",
    "    \n",
    "    if string[-3:] == 'ing':\n",
    "        new_string = string.replace('ing', 'ly')\n",
    "        return new_string\n",
    "    else:\n",
    "        new_string = string + 'ing'\n",
    "        return new_string\n",
    "    \n",
    "string = 'Meta'\n",
    "print(ing_ly(string))"
   ]
  },
  {
   "cell_type": "code",
   "execution_count": 42,
   "id": "cd763f20",
   "metadata": {},
   "outputs": [
    {
     "name": "stdout",
     "output_type": "stream",
     "text": [
      "The lyrics is good!\n"
     ]
    }
   ],
   "source": [
    "# 7. Write a Python program to find the first appearance of the substrings 'not' and 'poor' in a given string. \n",
    "# If 'not' is followed by 'poor', replace the whole 'not'...'poor' substring with 'good'. Return the resulting string.\n",
    "\n",
    "string = 'The lyrics is not that poor!'\n",
    "\n",
    "def good(string):\n",
    "    not_presence = 'not' in string\n",
    "    poor_presence = 'poor' in string\n",
    "    \n",
    "    if (not_presence and poor_presence) == True:\n",
    "        not_index = string.find('not')\n",
    "        poor_index = string.find('poor')\n",
    "        if not_index < poor_index:\n",
    "            string = string.replace(string[not_index:poor_index+4], 'good')\n",
    "            return string\n",
    "        else:\n",
    "            return 'The string does not satisfy the conditions.'\n",
    "    else:\n",
    "        return 'The string does not satisfy the conditions.'\n",
    "    \n",
    "print(good(string))"
   ]
  },
  {
   "cell_type": "code",
   "execution_count": 49,
   "id": "d3e4c48c",
   "metadata": {},
   "outputs": [
    {
     "name": "stdout",
     "output_type": "stream",
     "text": [
      "('Microsoft', 9)\n"
     ]
    }
   ],
   "source": [
    "# 8. Write a Python function that takes a list of words and return the longest word and the length of the longest one.\n",
    "\n",
    "def longest(list_of_words):\n",
    "    dict = {}\n",
    "    for word in list_of_words:\n",
    "        dict[word] = len(word)\n",
    "    longest_word = max(dict, key = lambda k: dict[k])\n",
    "    longest_length = dict[longest_word]\n",
    "    return longest_word, longest_length\n",
    "\n",
    "tech_companies = ['Meta', 'Google', 'Apple', 'Microsoft']\n",
    "\n",
    "print(longest(tech_companies))\n",
    "    "
   ]
  },
  {
   "cell_type": "code",
   "execution_count": 50,
   "id": "9b675e4b",
   "metadata": {},
   "outputs": [
    {
     "name": "stdout",
     "output_type": "stream",
     "text": [
      "I love ata science.\n"
     ]
    }
   ],
   "source": [
    "# 9. Write a Python program to remove the nth index character from a nonempty string.\n",
    "\n",
    "def remove_char(string, index):\n",
    "    if len(string)>0:\n",
    "        string = string.replace(string[index], '')\n",
    "        return string\n",
    "    else:\n",
    "        return 'The string does not meet the conditions.'\n",
    "    \n",
    "string = 'I love data science.'\n",
    "index = 7\n",
    "\n",
    "print(remove_char(string, index))"
   ]
  },
  {
   "cell_type": "code",
   "execution_count": 52,
   "id": "adf9bba7",
   "metadata": {},
   "outputs": [
    {
     "name": "stdout",
     "output_type": "stream",
     "text": [
      "avidin\n"
     ]
    }
   ],
   "source": [
    "# 10. Write a Python program to change a given string to a newly string where the first and last chars have been exchanged.\n",
    "\n",
    "def string_swap(string):\n",
    "    first_char = string[0]\n",
    "    last_char = string[-1]\n",
    "    new_string = last_char + string[1:-1] + first_char\n",
    "    return new_string\n",
    "\n",
    "string = 'nvidia'\n",
    "print(string_swap(string))"
   ]
  },
  {
   "cell_type": "code",
   "execution_count": 1,
   "id": "dd3b4b8f",
   "metadata": {},
   "outputs": [
    {
     "name": "stdout",
     "output_type": "stream",
     "text": [
      "Ilkyhn\n"
     ]
    }
   ],
   "source": [
    "# 11. Write a  Python program to remove characters that have odd index values in a given string.\n",
    "\n",
    "def remove_odd(string):\n",
    "    new_string = ''\n",
    "    for character in string:\n",
    "        if string.index(character) % 2 == 0:\n",
    "            new_string += character\n",
    "    return new_string\n",
    "\n",
    "print(remove_odd('I like Python'))"
   ]
  },
  {
   "cell_type": "code",
   "execution_count": 3,
   "id": "f2840870",
   "metadata": {},
   "outputs": [
    {
     "name": "stdout",
     "output_type": "stream",
     "text": [
      "{'the': 2, 'quick': 1, 'brown': 1, 'fox': 1, 'jumps': 1, 'over': 1, 'lazy': 1, 'dog.': 1}\n",
      "None\n",
      "{'the': 2, 'quick': 1, 'brown': 1, 'fox': 1, 'jumps': 1, 'over': 1, 'lazy': 1, 'dog.': 1}\n",
      "None\n"
     ]
    }
   ],
   "source": [
    "# 12. Write a Python program to count the occurrences of each word in a given sentence.\n",
    "\n",
    "def count_occurence(sentence):\n",
    "    dic = {}\n",
    "    list_of_words = sentence.split(' ')\n",
    "    for word in list_of_words:\n",
    "        if word not in dic.keys():\n",
    "            dic[word] = 1\n",
    "        else:\n",
    "            dic[word] += 1\n",
    "    print(dic)\n",
    "\n",
    "sentence = 'the quick brown fox jumps over the lazy dog.'\n",
    "print(count_occurence(sentence))\n",
    "\n",
    "\n",
    "def word_counter(sentence):\n",
    "    sentence_list = sentence.split(' ')\n",
    "    dic = {word : sentence_list.count(word) for word in sentence_list}\n",
    "    print(dic)\n",
    " \n",
    "\n",
    "sentence = 'the quick brown fox jumps over the lazy dog.'\n",
    "print(word_counter(sentence))"
   ]
  },
  {
   "cell_type": "code",
   "execution_count": 4,
   "id": "6c3761dd",
   "metadata": {},
   "outputs": [
    {
     "name": "stdout",
     "output_type": "stream",
     "text": [
      "adfasdf\n",
      "ADFASDF\n",
      "Adfasdf\n",
      "Adfasdf\n"
     ]
    }
   ],
   "source": [
    "# 13. Write a Python  script that takes input from the user and displays that input back in upper and lower cases.\n",
    "\n",
    "def letter_cases():\n",
    "    sentence = input('Write your sentence here: ')\n",
    "    print(sentence.lower())\n",
    "    print(sentence.upper())\n",
    "    print(sentence.title())\n",
    "    print(sentence.capitalize())\n",
    "\n",
    "letter_cases()"
   ]
  },
  {
   "cell_type": "code",
   "execution_count": 5,
   "id": "ecaa82d9",
   "metadata": {},
   "outputs": [
    {
     "name": "stdout",
     "output_type": "stream",
     "text": [
      "am, i, legend\n"
     ]
    }
   ],
   "source": [
    "\"\"\"\n",
    "14. Write a Python program that accepts a comma-separated sequence of words as input\n",
    "and prints the distinct words in sorted form (alphanumerically).\n",
    "Sample Words : red, white, black, red, green, black\n",
    "Expected Result : black, green, red, white,red\n",
    "\"\"\"\n",
    "\n",
    "sentence = input('Enter a comma-separated sequence of words: ')\n",
    "word_list = sentence.split(', ')\n",
    "sorted_word = sorted(word_list)\n",
    "sorted_sentence = ', '.join(sorted_word)\n",
    "\n",
    "print(sorted_sentence)"
   ]
  },
  {
   "cell_type": "code",
   "execution_count": 6,
   "id": "82837b31",
   "metadata": {},
   "outputs": [
    {
     "name": "stdout",
     "output_type": "stream",
     "text": [
      "<hi>asdf<hi>\n"
     ]
    }
   ],
   "source": [
    "\"\"\"\n",
    "15. Write a Python function to create an HTML string with tags around the word(s).\n",
    "Sample function and result :\n",
    "add_tags('i', 'Python') -> '<i>Python</i>'\n",
    "add_tags('b', 'Python Tutorial') -> '<b>Python Tutorial </b>'\n",
    "\"\"\"\n",
    "\n",
    "word = input('Enter your word: ')\n",
    "tag = input('Enter your tag: ')\n",
    "\n",
    "def html_tags(tag, word):\n",
    "    beginning_tag, ending_tag = tag, tag\n",
    "    new_word = '<' + beginning_tag + '>' + word + '<' + ending_tag + '>'\n",
    "    print(new_word)\n",
    "\n",
    "html_tags(tag, word)"
   ]
  },
  {
   "cell_type": "code",
   "execution_count": 7,
   "id": "37afa880",
   "metadata": {},
   "outputs": [
    {
     "name": "stdout",
     "output_type": "stream",
     "text": [
      "<<asdf>>\n"
     ]
    }
   ],
   "source": [
    "\"\"\"\n",
    "16. Write a Python function to insert a string in the middle of a string.\n",
    "Sample function and result :\n",
    "insert_sting_middle('[[]]<<>>', 'Python') -> [[Python]]\n",
    "insert_sting_middle('{{}}', 'PHP') -> {{PHP}}\n",
    "\"\"\"\n",
    "\n",
    "wrap = input('Enter your wrap (e.g. <<>>) ')\n",
    "user_string = input('Enter your string: ')\n",
    "\n",
    "def wrap_string(wrap, user_string):\n",
    "    new_string = wrap[:2] + user_string + wrap[2:]\n",
    "    print(new_string)\n",
    "\n",
    "wrap_string(wrap, user_string)"
   ]
  },
  {
   "cell_type": "code",
   "execution_count": 8,
   "id": "90a8fcbe",
   "metadata": {},
   "outputs": [
    {
     "name": "stdout",
     "output_type": "stream",
     "text": [
      "rererere\n"
     ]
    }
   ],
   "source": [
    "\"\"\"\n",
    "17. Write a Python function to get a string made of 4 copies of the last two characters of a\n",
    "specified string (length must be at least 2).\n",
    "Sample function and result :\n",
    "insert_end('Python') -> onononon\n",
    "insert_end('Exercises') -> eseseses\n",
    "\"\"\"\n",
    "\n",
    "def four_copies(user_string):\n",
    "    while True:\n",
    "        if len(user_string) < 2:\n",
    "            print('String is too short.')\n",
    "            user_string = input('Enter another input: ')\n",
    "        else:\n",
    "            break\n",
    "    last_two_characters = user_string[-2:]\n",
    "    print(last_two_characters * 4)\n",
    "\n",
    "user_string = input('Enter your string: ')\n",
    "four_copies(user_string)"
   ]
  },
  {
   "cell_type": "code",
   "execution_count": 10,
   "id": "8b24dcc6",
   "metadata": {},
   "outputs": [
    {
     "data": {
      "text/plain": [
       "'pyt'"
      ]
     },
     "execution_count": 10,
     "metadata": {},
     "output_type": "execute_result"
    }
   ],
   "source": [
    "\"\"\"     \n",
    "18. Write a Python function to get a string made of the first three characters of a specified string. \n",
    "If the length of the string is less than 3, return the original string.\n",
    "Sample function and result :\n",
    "first_three('ipy') -> ipy\n",
    "first_three('python') -> pyt\n",
    "\"\"\"\n",
    "\n",
    "def first_three(sample_string):\n",
    "    if len(sample_string) < 3:\n",
    "        return sample_string\n",
    "    else:\n",
    "        return sample_string[:3]\n",
    "\n",
    "first_three('python')"
   ]
  },
  {
   "cell_type": "code",
   "execution_count": 13,
   "id": "f84b06f3",
   "metadata": {},
   "outputs": [
    {
     "name": "stdout",
     "output_type": "stream",
     "text": [
      "https://www.w3resource.com/python-exercises\n"
     ]
    }
   ],
   "source": [
    "\"\"\"\n",
    "19. Write a Python program to get the last part of a string before a specified character.\n",
    "https://www.w3resource.com/python-exercises-fun\n",
    "https://www.w3resource.com/python-exercises\n",
    "\"\"\"\n",
    "\n",
    "sample_string = 'https://www.w3resource.com/python-exercises-fun'\n",
    "string_split = sample_string.rsplit('-', 1)\n",
    "print(string_split[0])"
   ]
  },
  {
   "cell_type": "code",
   "execution_count": 15,
   "id": "e007b060",
   "metadata": {},
   "outputs": [
    {
     "data": {
      "text/plain": [
       "'..sananab ekil I'"
      ]
     },
     "execution_count": 15,
     "metadata": {},
     "output_type": "execute_result"
    }
   ],
   "source": [
    "# 20. Write a Python function to reverse a string if its length is a multiple of 4.\n",
    "\n",
    "def reverse_multiple(sample_string):\n",
    "    if len(sample_string) % 4 == 0:\n",
    "        return sample_string[::-1]\n",
    "    else:\n",
    "        return sample_string\n",
    "    \n",
    "sample_string = 'I like bananas..'\n",
    "reverse_multiple(sample_string)"
   ]
  },
  {
   "cell_type": "code",
   "execution_count": null,
   "id": "82a43e2e",
   "metadata": {},
   "outputs": [],
   "source": []
  }
 ],
 "metadata": {
  "kernelspec": {
   "display_name": "Python 3 (ipykernel)",
   "language": "python",
   "name": "python3"
  },
  "language_info": {
   "codemirror_mode": {
    "name": "ipython",
    "version": 3
   },
   "file_extension": ".py",
   "mimetype": "text/x-python",
   "name": "python",
   "nbconvert_exporter": "python",
   "pygments_lexer": "ipython3",
   "version": "3.11.8"
  }
 },
 "nbformat": 4,
 "nbformat_minor": 5
}

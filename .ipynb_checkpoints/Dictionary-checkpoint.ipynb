{
 "cells": [
  {
   "cell_type": "markdown",
   "id": "20e54753",
   "metadata": {},
   "source": [
    "Python dictionaries are containers of the unordered set of objects like lists. The items in a dictionary are a comma-separated list of key-value pairs. While keys must be unique, values can be repeated across different keys in a dictionary. The dictionary keys must be immutable Python objects such as tuples, floats, integers, etc. Mutable objects such as Python lists cannot be used as keys."
   ]
  },
  {
   "cell_type": "markdown",
   "id": "9d3a2108",
   "metadata": {},
   "source": [
    "- Collection of dictionary keys:\n",
    "`<view> = <dict>.keys()`\n",
    "- Collection of dictionary values:\n",
    "`<view> = <dict>.values()`\n",
    "- Collection of key-value tuples:\n",
    "`<view> = <dict>.items()`"
   ]
  },
  {
   "cell_type": "markdown",
   "id": "3da075d3",
   "metadata": {},
   "source": [
    "- Get value by key: `dict[key]`\n",
    "- Get value by key: `dict.get(key)`"
   ]
  },
  {
   "cell_type": "markdown",
   "id": "f0c0dd29",
   "metadata": {},
   "source": [
    "- Iterate over Python dictionaries using for loops:\n",
    "\n",
    "```for key, value in dict.items():\n",
    "     return key, value```"
   ]
  },
  {
   "cell_type": "code",
   "execution_count": null,
   "id": "1b119d75",
   "metadata": {},
   "outputs": [],
   "source": []
  }
 ],
 "metadata": {
  "kernelspec": {
   "display_name": "Python 3 (ipykernel)",
   "language": "python",
   "name": "python3"
  },
  "language_info": {
   "codemirror_mode": {
    "name": "ipython",
    "version": 3
   },
   "file_extension": ".py",
   "mimetype": "text/x-python",
   "name": "python",
   "nbconvert_exporter": "python",
   "pygments_lexer": "ipython3",
   "version": "3.9.12"
  }
 },
 "nbformat": 4,
 "nbformat_minor": 5
}

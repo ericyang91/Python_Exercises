{
 "cells": [
  {
   "cell_type": "markdown",
   "id": "07de2125-a10e-45cc-a088-31b1fc1fc1e6",
   "metadata": {},
   "source": [
    "# Functions"
   ]
  },
  {
   "cell_type": "markdown",
   "id": "d39d4566-8ce1-46a5-b2e1-5cbf9a36aa5f",
   "metadata": {},
   "source": [
    "## Recursive Functions"
   ]
  },
  {
   "cell_type": "code",
   "execution_count": 7,
   "id": "0852743f-6e8a-4fd7-bcea-099c05a1348d",
   "metadata": {},
   "outputs": [
    {
     "name": "stdout",
     "output_type": "stream",
     "text": [
      "The factorial of 5 is 120.\n"
     ]
    }
   ],
   "source": [
    "\"\"\"\n",
    "Factorial Calculation\n",
    "\n",
    "Problem: Write a recursive function to calculate the factorial of a given non-negative integer n.\n",
    "Example: factorial(5) should return 120.\n",
    "\"\"\"\n",
    "\n",
    "def factorial(n):\n",
    "    if n == 0:\n",
    "        return 1\n",
    "    else:\n",
    "        return n * factorial(n - 1)\n",
    "\n",
    "n = 5\n",
    "result = factorial(n)\n",
    "print(f'The factorial of {n} is {result}.')"
   ]
  },
  {
   "cell_type": "code",
   "execution_count": 9,
   "id": "8843cb96-289d-411e-bedf-304792d83e50",
   "metadata": {},
   "outputs": [
    {
     "name": "stdout",
     "output_type": "stream",
     "text": [
      "8\n"
     ]
    }
   ],
   "source": [
    "\"\"\"\n",
    "Fibonacci Sequence\n",
    "\n",
    "Problem: Write a recursive function to find the n-th number in the Fibonacci sequence. \n",
    "The Fibonacci sequence starts with 0, 1, and each subsequent number is the sum of the previous two.\n",
    "Example: fibonacci(6) should return 8. n is the index in the Fibonacci sequence.\n",
    "\"\"\"\n",
    "\n",
    "def fibo(n):\n",
    "    if n == 0:\n",
    "        return 0\n",
    "    elif n == 1:\n",
    "        return 1\n",
    "    else:\n",
    "        return fibo(n - 1) + fibo(n - 2) # This will branch out into multiple fibo() functions that will look like a tree. \n",
    "        # The lowest level values will add up to result in the nth Fibonacci value.\n",
    "\n",
    "n = 6\n",
    "print(fibo(n))"
   ]
  },
  {
   "cell_type": "code",
   "execution_count": null,
   "id": "9a04f764-0fe3-4b29-a450-e9bf072a87e5",
   "metadata": {},
   "outputs": [],
   "source": [
    "\"\"\"\n",
    "Sum of Digits\n",
    "\n",
    "Problem: Write a recursive function that calculates the sum of the digits of a given positive integer.\n",
    "Example: sum_of_digits(1234) should return 10.\n",
    "\"\"\""
   ]
  },
  {
   "cell_type": "code",
   "execution_count": null,
   "id": "ab1ed833-08ac-48a5-a18e-ceded8bf4c85",
   "metadata": {},
   "outputs": [],
   "source": [
    "\"\"\"\n",
    "Power Function\n",
    "\n",
    "Problem: Write a recursive function to compute x raised to the power of n (i.e., x^n).\n",
    "Example: power(2, 3) should return 8.\n",
    "\"\"\""
   ]
  },
  {
   "cell_type": "code",
   "execution_count": null,
   "id": "e76430b0-feed-44ab-a694-2bd5ead73218",
   "metadata": {},
   "outputs": [],
   "source": [
    "\"\"\"\n",
    "Reverse a String\n",
    "\n",
    "Problem: Write a recursive function to reverse a given string.\n",
    "Example: reverse_string(\"hello\") should return \"olleh\".\n",
    "\"\"\""
   ]
  },
  {
   "cell_type": "code",
   "execution_count": null,
   "id": "487ff578-82d4-4662-a357-06799be7cefa",
   "metadata": {},
   "outputs": [],
   "source": [
    "\"\"\"\n",
    "Greatest Common Divisor (GCD)\n",
    "\n",
    "Problem: Write a recursive function to compute the GCD of two non-negative integers using the Euclidean algorithm \n",
    "(if you want to use a different approach, let me know).\n",
    "Example: gcd(48, 18) should return 6.\n",
    "\"\"\""
   ]
  },
  {
   "cell_type": "code",
   "execution_count": null,
   "id": "caea84a4-97d8-4d3b-b39b-9b3b2004ab0d",
   "metadata": {},
   "outputs": [],
   "source": [
    "\"\"\"\n",
    "List Sum\n",
    "\n",
    "Problem: Write a recursive function to calculate the sum of all elements in a list of integers.\n",
    "Example: list_sum([1, 2, 3, 4]) should return 10.\n",
    "\"\"\""
   ]
  },
  {
   "cell_type": "code",
   "execution_count": null,
   "id": "9a4ab1ac-37fb-4725-a3d1-c6bf2df1215e",
   "metadata": {},
   "outputs": [],
   "source": [
    "\"\"\"\n",
    "Check Palindrome\n",
    "\n",
    "Problem: Write a recursive function to check if a given string is a palindrome (reads the same forward and backward).\n",
    "Example: is_palindrome(\"racecar\") should return True.\n",
    "\"\"\""
   ]
  }
 ],
 "metadata": {
  "kernelspec": {
   "display_name": "Python 3 (ipykernel)",
   "language": "python",
   "name": "python3"
  },
  "language_info": {
   "codemirror_mode": {
    "name": "ipython",
    "version": 3
   },
   "file_extension": ".py",
   "mimetype": "text/x-python",
   "name": "python",
   "nbconvert_exporter": "python",
   "pygments_lexer": "ipython3",
   "version": "3.11.7"
  }
 },
 "nbformat": 4,
 "nbformat_minor": 5
}

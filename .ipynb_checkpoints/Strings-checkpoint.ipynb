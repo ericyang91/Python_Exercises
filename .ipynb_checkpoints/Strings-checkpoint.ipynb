{
 "cells": [
  {
   "cell_type": "code",
   "execution_count": 2,
   "id": "ddce704a",
   "metadata": {},
   "outputs": [
    {
     "name": "stdout",
     "output_type": "stream",
     "text": [
      "6\n"
     ]
    }
   ],
   "source": [
    "# Write a Python program to calculate the length of a string.\n",
    "\n",
    "def len_String(string):\n",
    "    return len(string)\n",
    "\n",
    "string = 'Google'\n",
    "\n",
    "print(len_String(string))"
   ]
  },
  {
   "cell_type": "code",
   "execution_count": 13,
   "id": "919af445",
   "metadata": {},
   "outputs": [
    {
     "name": "stdout",
     "output_type": "stream",
     "text": [
      "[['G', 1], ['o', 2], ['g', 1], ['l', 1], ['e', 1]]\n"
     ]
    }
   ],
   "source": [
    "# Write a Python program to count the number of characters (character frequency) in a string.\n",
    "\n",
    "def char_frequency(string):\n",
    "    dict = {}\n",
    "    for character in string:\n",
    "        if character not in dict:\n",
    "            dict[character] = 1\n",
    "        else:\n",
    "            dict[character] += 1\n",
    "    \n",
    "    result = []\n",
    "    for key, value in dict.items():\n",
    "        result.append([key, value])\n",
    "    return result\n",
    "    \n",
    "string = 'Google'\n",
    "print(char_frequency(string))    "
   ]
  },
  {
   "cell_type": "code",
   "execution_count": 14,
   "id": "278e1d0e",
   "metadata": {},
   "outputs": [
    {
     "name": "stdout",
     "output_type": "stream",
     "text": [
      "Mift\n"
     ]
    }
   ],
   "source": [
    "# Write a Python program to get a string made of the first 2 and last 2 characters of a given string. \n",
    "# If the string length is less than 2, return the empty string instead.\n",
    "\n",
    "def first_two_last_two(string):\n",
    "    if len(string)<2:\n",
    "        return ''\n",
    "    else:\n",
    "        new_string = string[:2] + string[-2:]\n",
    "        return new_string\n",
    "    \n",
    "string = 'Microsoft'\n",
    "print(first_two_last_two(string))"
   ]
  },
  {
   "cell_type": "code",
   "execution_count": 19,
   "id": "2aa888b2",
   "metadata": {},
   "outputs": [
    {
     "name": "stdout",
     "output_type": "stream",
     "text": [
      "ma$$oth\n"
     ]
    }
   ],
   "source": [
    "# Write a Python program to get a string from a given string where all occurrences of its first char have been \n",
    "# changed to '$', except the first char itself.\n",
    "\n",
    "def change_except_first(string):\n",
    "    first_char = string[0]\n",
    "    remaining_chars = string[1:]\n",
    "    new_remaining = remaining_chars.replace(first_char, '$')\n",
    "    new_string = first_char + new_remaining\n",
    "    return new_string\n",
    "\n",
    "string = 'mammoth'\n",
    "print(change_except_first(string))"
   ]
  },
  {
   "cell_type": "code",
   "execution_count": 21,
   "id": "a646dc30",
   "metadata": {},
   "outputs": [
    {
     "name": "stdout",
     "output_type": "stream",
     "text": [
      "Miogle Gocrosoft\n"
     ]
    }
   ],
   "source": [
    "# Write a Python program to get a single string from two given strings, separated by a space and swap the \n",
    "# first two characters of each string.\n",
    "\n",
    "def string_swap(first_string, second_string):\n",
    "    first_firstTwoChar = first_string[:2]\n",
    "    first_remaining = first_string[2:]\n",
    "    second_firstTwoChar = second_string[:2]\n",
    "    second_remaining = second_string[2:]\n",
    "    new_string = second_firstTwoChar + first_remaining + ' ' + first_firstTwoChar + second_remaining\n",
    "    return new_string\n",
    "\n",
    "first_string = 'Google'\n",
    "second_string = 'Microsoft'\n",
    "print(string_swap(first_string, second_string))"
   ]
  },
  {
   "cell_type": "code",
   "execution_count": 24,
   "id": "51f3ab80",
   "metadata": {},
   "outputs": [
    {
     "name": "stdout",
     "output_type": "stream",
     "text": [
      "Metaing\n"
     ]
    }
   ],
   "source": [
    "# Write a Python program to add 'ing' at the end of a given string (length should be at least 3). \n",
    "# If the given string already ends with 'ing', add 'ly' instead. If the string length of the given string is less than 3, \n",
    "# leave it unchanged.\n",
    "\n",
    "def ing_ly(string):\n",
    "    if len(string)<3:\n",
    "        return string\n",
    "    \n",
    "    if string[-3:] == 'ing':\n",
    "        new_string = string.replace('ing', 'ly')\n",
    "        return new_string\n",
    "    else:\n",
    "        new_string = string + 'ing'\n",
    "        return new_string\n",
    "    \n",
    "string = 'Meta'\n",
    "print(ing_ly(string))"
   ]
  },
  {
   "cell_type": "code",
   "execution_count": 42,
   "id": "cd763f20",
   "metadata": {},
   "outputs": [
    {
     "name": "stdout",
     "output_type": "stream",
     "text": [
      "The lyrics is good!\n"
     ]
    }
   ],
   "source": [
    "# Write a Python program to find the first appearance of the substrings 'not' and 'poor' in a given string. \n",
    "# If 'not' is followed by 'poor', replace the whole 'not'...'poor' substring with 'good'. Return the resulting string.\n",
    "\n",
    "string = 'The lyrics is not that poor!'\n",
    "\n",
    "def good(string):\n",
    "    not_presence = 'not' in string\n",
    "    poor_presence = 'poor' in string\n",
    "    \n",
    "    if (not_presence and poor_presence) == True:\n",
    "        not_index = string.find('not')\n",
    "        poor_index = string.find('poor')\n",
    "        if not_index < poor_index:\n",
    "            string = string.replace(string[not_index:poor_index+4], 'good')\n",
    "            return string\n",
    "        else:\n",
    "            return 'The string does not satisfy the conditions.'\n",
    "    else:\n",
    "        return 'The string does not satisfy the conditions.'\n",
    "    \n",
    "print(good(string))"
   ]
  },
  {
   "cell_type": "code",
   "execution_count": 49,
   "id": "d3e4c48c",
   "metadata": {},
   "outputs": [
    {
     "name": "stdout",
     "output_type": "stream",
     "text": [
      "('Microsoft', 9)\n"
     ]
    }
   ],
   "source": [
    "# Write a Python function that takes a list of words and return the longest word and the length of the longest one.\n",
    "\n",
    "def longest(list_of_words):\n",
    "    dict = {}\n",
    "    for word in list_of_words:\n",
    "        dict[word] = len(word)\n",
    "    longest_word = max(dict, key = lambda k: dict[k])\n",
    "    longest_length = dict[longest_word]\n",
    "    return longest_word, longest_length\n",
    "\n",
    "tech_companies = ['Meta', 'Google', 'Apple', 'Microsoft']\n",
    "\n",
    "print(longest(tech_companies))\n",
    "    "
   ]
  },
  {
   "cell_type": "code",
   "execution_count": 50,
   "id": "9b675e4b",
   "metadata": {},
   "outputs": [
    {
     "name": "stdout",
     "output_type": "stream",
     "text": [
      "I love ata science.\n"
     ]
    }
   ],
   "source": [
    "# Write a Python program to remove the nth index character from a nonempty string.\n",
    "\n",
    "def remove_char(string, index):\n",
    "    if len(string)>0:\n",
    "        string = string.replace(string[index], '')\n",
    "        return string\n",
    "    else:\n",
    "        return 'The string does not meet the conditions.'\n",
    "    \n",
    "string = 'I love data science.'\n",
    "index = 7\n",
    "\n",
    "print(remove_char(string, index))"
   ]
  },
  {
   "cell_type": "code",
   "execution_count": 52,
   "id": "adf9bba7",
   "metadata": {},
   "outputs": [
    {
     "name": "stdout",
     "output_type": "stream",
     "text": [
      "avidin\n"
     ]
    }
   ],
   "source": [
    "# Write a Python program to change a given string to a newly string where the first and last chars have been exchanged.\n",
    "\n",
    "def string_swap(string):\n",
    "    first_char = string[0]\n",
    "    last_char = string[-1]\n",
    "    new_string = last_char + string[1:-1] + first_char\n",
    "    return new_string\n",
    "\n",
    "string = 'nvidia'\n",
    "print(string_swap(string))"
   ]
  },
  {
   "cell_type": "code",
   "execution_count": null,
   "id": "dd3b4b8f",
   "metadata": {},
   "outputs": [],
   "source": []
  }
 ],
 "metadata": {
  "kernelspec": {
   "display_name": "Python 3 (ipykernel)",
   "language": "python",
   "name": "python3"
  },
  "language_info": {
   "codemirror_mode": {
    "name": "ipython",
    "version": 3
   },
   "file_extension": ".py",
   "mimetype": "text/x-python",
   "name": "python",
   "nbconvert_exporter": "python",
   "pygments_lexer": "ipython3",
   "version": "3.9.12"
  }
 },
 "nbformat": 4,
 "nbformat_minor": 5
}

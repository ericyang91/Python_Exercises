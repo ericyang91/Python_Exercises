{
 "cells": [
  {
   "cell_type": "code",
   "execution_count": 1,
   "id": "fde07737-2992-484a-83a0-28766ec562c5",
   "metadata": {},
   "outputs": [],
   "source": [
    "from datetime import datetime, date, time, timedelta"
   ]
  },
  {
   "cell_type": "code",
   "execution_count": 7,
   "id": "a3001433-8819-4fa9-a4cf-7113b429b241",
   "metadata": {},
   "outputs": [
    {
     "name": "stdout",
     "output_type": "stream",
     "text": [
      "<class 'datetime.date'>\n",
      "2024-08-15 , 2024-01-01\n"
     ]
    }
   ],
   "source": [
    "# Using datetime.date\n",
    "\n",
    "today = date.today()\n",
    "new_year = date(2024, 1, 1)\n",
    "\n",
    "new_year.isoformat() # Returns a date string in ISO 8601 format, YYYY-MM-DD.\n",
    "\n",
    "print(type(today))\n",
    "print(today, ',', new_year)"
   ]
  },
  {
   "cell_type": "code",
   "execution_count": 9,
   "id": "b463afdf-3dc6-4c90-92e4-92cd42ecb544",
   "metadata": {},
   "outputs": [
    {
     "name": "stdout",
     "output_type": "stream",
     "text": [
      "<class 'datetime.time'>\n",
      "10:01:10\n"
     ]
    }
   ],
   "source": [
    "# Using datetime.time\n",
    "\n",
    "morning = time(10, 1, 10)\n",
    "\n",
    "print(type(morning))\n",
    "print(morning)"
   ]
  },
  {
   "cell_type": "code",
   "execution_count": 18,
   "id": "1daa290c-9d7d-4788-bfb8-e23b33b95c8c",
   "metadata": {},
   "outputs": [
    {
     "name": "stdout",
     "output_type": "stream",
     "text": [
      "<class 'datetime.datetime'>\n",
      "1968-01-18 00:00:00 , 2024-08-15 22:15:42.983493\n",
      "1968 1 18\n"
     ]
    }
   ],
   "source": [
    "# Using datetime.datetime\n",
    "\n",
    "now = datetime.now()\n",
    "mom_bday = datetime(1968, 1, 18)\n",
    "yr = mom_bday.year\n",
    "month = mom_bday.month\n",
    "day = mom_bday.day\n",
    "\n",
    "print(type(now))\n",
    "print(mom_bday, ',', now)\n",
    "print(yr, month, day)"
   ]
  },
  {
   "cell_type": "code",
   "execution_count": 12,
   "id": "bdba95ef-57d2-48a3-b898-b742c251e2a6",
   "metadata": {},
   "outputs": [
    {
     "name": "stdout",
     "output_type": "stream",
     "text": [
      "<class 'datetime.timedelta'>\n"
     ]
    }
   ],
   "source": [
    "# Using timedelta to compute differences between times\n",
    "\n",
    "now = datetime.now()\n",
    "then = datetime(1991, 10, 10)\n",
    "difference = now - then\n",
    "\n",
    "print(type(difference))"
   ]
  },
  {
   "cell_type": "code",
   "execution_count": 17,
   "id": "895aea26-b967-4e43-bec3-9c5be2971fb4",
   "metadata": {},
   "outputs": [
    {
     "name": "stdout",
     "output_type": "stream",
     "text": [
      "11998 , 78513\n",
      "2015-05-31\n"
     ]
    }
   ],
   "source": [
    "# Using timedelta to compute differences between times (2)\n",
    "\n",
    "diff_day = difference.days\n",
    "diff_second = difference.seconds\n",
    "\n",
    "print(diff_day, ',', diff_second)\n",
    "\n",
    "leah_bday = date(1988, 1, 13)\n",
    "time_passed = timedelta(days = 10000)\n",
    "what_day = leah_bday + time_passed\n",
    "\n",
    "print(what_day)"
   ]
  },
  {
   "cell_type": "code",
   "execution_count": 20,
   "id": "a68f9028-118b-430c-9ee5-f84514c9e138",
   "metadata": {},
   "outputs": [
    {
     "name": "stdout",
     "output_type": "stream",
     "text": [
      "2079-05-19\n"
     ]
    }
   ],
   "source": [
    "# Putting dates into isoformat strings\n",
    "\n",
    "today = date.today()\n",
    "later = date.today() + timedelta(days = 20000)\n",
    "\n",
    "print(later.isoformat())"
   ]
  },
  {
   "cell_type": "code",
   "execution_count": null,
   "id": "5c25169f-9e34-4cc2-bd3e-432cda2c540f",
   "metadata": {},
   "outputs": [],
   "source": [
    "# Iterating over dates"
   ]
  }
 ],
 "metadata": {
  "kernelspec": {
   "display_name": "Python 3 (ipykernel)",
   "language": "python",
   "name": "python3"
  },
  "language_info": {
   "codemirror_mode": {
    "name": "ipython",
    "version": 3
   },
   "file_extension": ".py",
   "mimetype": "text/x-python",
   "name": "python",
   "nbconvert_exporter": "python",
   "pygments_lexer": "ipython3",
   "version": "3.11.7"
  }
 },
 "nbformat": 4,
 "nbformat_minor": 5
}

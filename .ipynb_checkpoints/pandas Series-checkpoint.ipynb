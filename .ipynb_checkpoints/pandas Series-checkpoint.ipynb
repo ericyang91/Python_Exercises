{
 "cells": [
  {
   "cell_type": "code",
   "execution_count": 2,
   "id": "4bdae158",
   "metadata": {},
   "outputs": [],
   "source": [
    "import pandas as pd\n",
    "import numpy as np"
   ]
  },
  {
   "cell_type": "code",
   "execution_count": 3,
   "id": "43ab7e45",
   "metadata": {},
   "outputs": [
    {
     "name": "stdout",
     "output_type": "stream",
     "text": [
      "0    1\n",
      "1    2\n",
      "2    3\n",
      "3    4\n",
      "4    5\n",
      "dtype: int64\n"
     ]
    }
   ],
   "source": [
    "# 1. Write a Pandas program to create and display a one-dimensional array-like object containing an array of data using Pandas module.\n",
    "\n",
    "list = [1,2,3,4,5]\n",
    "series1 = pd.Series(list)\n",
    "print(series1)"
   ]
  },
  {
   "cell_type": "code",
   "execution_count": 6,
   "id": "0c726eb4",
   "metadata": {},
   "outputs": [
    {
     "name": "stdout",
     "output_type": "stream",
     "text": [
      "[1, 2, 3, 4, 5]\n"
     ]
    }
   ],
   "source": [
    "# 2. Write a Pandas program to convert a Panda module Series to Python list and it's type.\n",
    "\n",
    "series1 = pd.Series([1,2,3,4,5])\n",
    "list1 = series1.to_list()\n",
    "print(list1)"
   ]
  },
  {
   "cell_type": "code",
   "execution_count": 7,
   "id": "84c5d657",
   "metadata": {},
   "outputs": [
    {
     "name": "stdout",
     "output_type": "stream",
     "text": [
      "0     3\n",
      "1     7\n",
      "2    11\n",
      "3    15\n",
      "4    19\n",
      "dtype: int64 0    1\n",
      "1    1\n",
      "2    1\n",
      "3    1\n",
      "4    1\n",
      "dtype: int64 0     2\n",
      "1    12\n",
      "2    30\n",
      "3    56\n",
      "4    90\n",
      "dtype: int64 0    2.000000\n",
      "1    1.333333\n",
      "2    1.200000\n",
      "3    1.142857\n",
      "4    1.111111\n",
      "dtype: float64\n"
     ]
    }
   ],
   "source": [
    "# 3. Write a Pandas program to add, subtract, multiple and divide two Pandas Series.\n",
    "\n",
    "series1 = pd.Series([2, 4, 6, 8, 10])\n",
    "series2 = pd.Series([1, 3, 5, 7, 9])\n",
    "\n",
    "add = series1 + series2\n",
    "subtract = series1 - series2\n",
    "multiply = series1 * series2\n",
    "divide = series1 / series2\n",
    "print(add, subtract, multiply, divide)"
   ]
  },
  {
   "cell_type": "code",
   "execution_count": 9,
   "id": "6a889c0f",
   "metadata": {},
   "outputs": [
    {
     "name": "stdout",
     "output_type": "stream",
     "text": [
      "series 1 is greater than series 2\n",
      "series 1 is greater than series 2\n",
      "series 1 is greater than series 2\n",
      "series 1 is greater than series 2\n",
      "series 1 is equal to series 2\n"
     ]
    }
   ],
   "source": [
    "# 4. Write a Pandas program to compare the elements of the two Pandas Series.\n",
    "\n",
    "series1 = pd.Series([2, 4, 6, 8, 10])\n",
    "series2 = pd.Series([1, 3, 5, 7, 10])\n",
    "\n",
    "for i in range(len(series1)):\n",
    "  if series1[i]>series2[i]:\n",
    "    print('series 1 is greater than series 2')\n",
    "  elif series1[i] == series2[i]:\n",
    "    print('series 1 is equal to series 2')\n",
    "  else:\n",
    "    print('series 2 is greater than series 1')"
   ]
  },
  {
   "cell_type": "code",
   "execution_count": 10,
   "id": "cfe48f6c",
   "metadata": {},
   "outputs": [
    {
     "name": "stdout",
     "output_type": "stream",
     "text": [
      "a    100\n",
      "b    200\n",
      "c    300\n",
      "d    400\n",
      "e    800\n",
      "dtype: int64\n"
     ]
    }
   ],
   "source": [
    "# 5. Write a Pandas program to convert a dictionary to a Pandas series.\n",
    "\n",
    "dict = {'a': 100, 'b': 200, 'c': 300, 'd': 400, 'e': 800}\n",
    "series1 = pd.Series(dict)\n",
    "print(series1)"
   ]
  },
  {
   "cell_type": "code",
   "execution_count": 11,
   "id": "c006498a",
   "metadata": {},
   "outputs": [
    {
     "name": "stdout",
     "output_type": "stream",
     "text": [
      "0    10\n",
      "1    20\n",
      "2    30\n",
      "3    40\n",
      "4    50\n",
      "dtype: int32\n"
     ]
    }
   ],
   "source": [
    "# 6. Write a Pandas program to convert a NumPy array to a Pandas series.\n",
    "\n",
    "array1 = np.array([10,20,30,40,50])\n",
    "series1 = pd.Series(array1)\n",
    "print(series1)"
   ]
  },
  {
   "cell_type": "code",
   "execution_count": 12,
   "id": "c44b606a",
   "metadata": {},
   "outputs": [
    {
     "name": "stdout",
     "output_type": "stream",
     "text": [
      "0    1.0\n",
      "1    2.0\n",
      "2    NaN\n",
      "dtype: float64\n"
     ]
    }
   ],
   "source": [
    "# 7. Write a Pandas program to change the data type of given a column or a Series.\n",
    "\n",
    "# series1.astype('float') will not work because 'python' cannot be converted to a number\n",
    "# to_numeric() is specific to pandas only\n",
    "\n",
    "series1 = pd.Series(['1','2', 'python'])\n",
    "series1 = pd.to_numeric(series1, errors='coerce') #coerce will return NaN for values that cannot be converted\n",
    "\n",
    "print(series1)"
   ]
  },
  {
   "cell_type": "code",
   "execution_count": 13,
   "id": "f129a7c3",
   "metadata": {},
   "outputs": [
    {
     "name": "stdout",
     "output_type": "stream",
     "text": [
      "0     1\n",
      "1     2\n",
      "2     3\n",
      "3     4\n",
      "4     7\n",
      "5    11\n",
      "Name: col1, dtype: int64\n"
     ]
    }
   ],
   "source": [
    "# 8. Write a Pandas program to convert the first column of a DataFrame as a Series.\n",
    "\n",
    "d = {'col1': [1, 2, 3, 4, 7, 11], 'col2': [4, 5, 6, 9, 5, 0], 'col3': [7, 5, 8, 12, 1, 11]}\n",
    "\n",
    "df = pd.DataFrame(d)\n",
    "series1 = df['col1']\n",
    "print(series1)"
   ]
  },
  {
   "cell_type": "code",
   "execution_count": 14,
   "id": "60a327ae",
   "metadata": {},
   "outputs": [
    {
     "name": "stdout",
     "output_type": "stream",
     "text": [
      "[1 2 3 4 5]\n"
     ]
    }
   ],
   "source": [
    "# 9. Write a Pandas program to convert a given Series to an array.\n",
    "\n",
    "# series.values return a numpy ndarray\n",
    "series1 = pd.Series([1,2,3,4,5])\n",
    "array = series1.values\n",
    "print(array)"
   ]
  },
  {
   "cell_type": "code",
   "execution_count": 15,
   "id": "79eb0d40",
   "metadata": {},
   "outputs": [
    {
     "name": "stdout",
     "output_type": "stream",
     "text": [
      "0       Red\n",
      "1     Green\n",
      "2     White\n",
      "3       Red\n",
      "4     Black\n",
      "5    Yellow\n",
      "dtype: object\n"
     ]
    }
   ],
   "source": [
    "# 10. Write a Pandas program to convert Series of lists to one Series.\n",
    "\n",
    "s = pd.Series([\n",
    "    ['Red', 'Green', 'White'],\n",
    "    ['Red', 'Black'],\n",
    "    ['Yellow']])\n",
    "\n",
    "new_list = []\n",
    "\n",
    "for element in s:\n",
    "  for item in element:\n",
    "    new_list.append(item)\n",
    "sa = pd.Series(new_list)\n",
    "print(sa)"
   ]
  },
  {
   "cell_type": "code",
   "execution_count": 16,
   "id": "a930bf76",
   "metadata": {},
   "outputs": [
    {
     "name": "stdout",
     "output_type": "stream",
     "text": [
      "0    10\n",
      "1     6\n",
      "2     5\n",
      "3     4\n",
      "4     3\n",
      "dtype: int64\n"
     ]
    }
   ],
   "source": [
    "# 11. Write a Pandas program to sort a given Series.\n",
    "\n",
    "series1 = pd.Series([10,3,6,4,5])\n",
    "series1 = series1.sort_values(ascending = False, ignore_index = True)\n",
    "print(series1)"
   ]
  },
  {
   "cell_type": "code",
   "execution_count": 17,
   "id": "be1622a1",
   "metadata": {},
   "outputs": [
    {
     "name": "stdout",
     "output_type": "stream",
     "text": [
      "0          100\n",
      "1          200\n",
      "2       python\n",
      "3       300.12\n",
      "4          400\n",
      "5    microsoft\n",
      "6       google\n",
      "dtype: object\n"
     ]
    }
   ],
   "source": [
    "# 12. Write a Pandas program to add some data to an existing Series.\n",
    "\n",
    "s = pd.Series(['100', '200', 'python', '300.12', '400'])\n",
    "s1 = pd.Series(['microsoft', 'google'])\n",
    "new = pd.concat([s,s1], axis = 0, ignore_index = True)\n",
    "\n",
    "print(new)"
   ]
  },
  {
   "cell_type": "code",
   "execution_count": 18,
   "id": "ae6dbe15",
   "metadata": {},
   "outputs": [
    {
     "name": "stdout",
     "output_type": "stream",
     "text": [
      "0    100\n",
      "dtype: int64\n"
     ]
    }
   ],
   "source": [
    "# 13. Write a Pandas program to create a subset of a given series based on value and condition.\n",
    "\n",
    "s = pd.Series([100,200,300,400])\n",
    "new = s[s<200]\n",
    "print(new)"
   ]
  },
  {
   "cell_type": "code",
   "execution_count": 21,
   "id": "38aa132e",
   "metadata": {},
   "outputs": [
    {
     "name": "stdout",
     "output_type": "stream",
     "text": [
      "2         meta\n",
      "1    microsoft\n",
      "0       google\n",
      "dtype: object\n"
     ]
    }
   ],
   "source": [
    "# 14. Write a Pandas program to change the order of index of a given series.\n",
    "\n",
    "series1 = pd.Series(['meta', 'microsoft', 'google'])\n",
    "new_series = pd.Series(series1.to_list(), index=[2,1,0])\n",
    "print(new_series)"
   ]
  },
  {
   "cell_type": "code",
   "execution_count": 22,
   "id": "dd9d1495",
   "metadata": {},
   "outputs": [
    {
     "name": "stdout",
     "output_type": "stream",
     "text": [
      "5.5 3.03\n"
     ]
    }
   ],
   "source": [
    "# 15. Write a Pandas program to create the mean and standard deviation of the data of a given Series.\n",
    "\n",
    "series1 = pd.Series([1,2,3,4,5,6,7,8,9,10])\n",
    "mean = series1.mean()\n",
    "sd = series1.std()\n",
    "\n",
    "print(mean, round(sd,2))"
   ]
  },
  {
   "cell_type": "code",
   "execution_count": 23,
   "id": "3eb823c9",
   "metadata": {},
   "outputs": [
    {
     "name": "stdout",
     "output_type": "stream",
     "text": [
      "0    1\n",
      "1    2\n",
      "2    3\n",
      "dtype: int64\n"
     ]
    }
   ],
   "source": [
    "# 16. Write a Pandas program to get the items of a given series not present in another given series.\n",
    "\n",
    "series1 = pd.Series([1,2,3,4,5])\n",
    "series2 = pd.Series([4,5,6,7,8])\n",
    "\n",
    "print(series1[~series1.isin(series2)])"
   ]
  },
  {
   "cell_type": "code",
   "execution_count": 24,
   "id": "daa4b307",
   "metadata": {},
   "outputs": [
    {
     "name": "stdout",
     "output_type": "stream",
     "text": [
      "0      1\n",
      "1      2\n",
      "2      3\n",
      "3      4\n",
      "4      5\n",
      "5      6\n",
      "6      7\n",
      "7     11\n",
      "8     12\n",
      "9     13\n",
      "10    14\n",
      "11    15\n",
      "dtype: int64\n"
     ]
    }
   ],
   "source": [
    "# 17. Write a Pandas program to get the items which are not common of two given series.\n",
    "\n",
    "series1 = pd.Series([1,2,3,4,5,6,7,8,9,10])\n",
    "series2 = pd.Series([8,9,10,11,12,13,14,15])\n",
    "\n",
    "new1 = series1[~series1.isin(series2)]\n",
    "new2 = series2[~series2.isin(series1)]\n",
    "\n",
    "new = pd.concat([new1, new2], ignore_index = True)\n",
    "\n",
    "print(new)"
   ]
  },
  {
   "cell_type": "code",
   "execution_count": 25,
   "id": "157dc16f",
   "metadata": {},
   "outputs": [
    {
     "name": "stdout",
     "output_type": "stream",
     "text": [
      "10 1 3.25\n"
     ]
    }
   ],
   "source": [
    "# 18. Write a Pandas program to compute the minimum, 25th percentile, median, 75th, and maximum of a given series.\n",
    "\n",
    "series1 = pd.Series([1,2,3,4,5,6,7,8,9,10])\n",
    "max_num = series1.max()\n",
    "min_num = series1.min()\n",
    "twentyfifth = series1.quantile(q=0.25)\n",
    "\n",
    " \n",
    "\n",
    "print(max_num, min_num, twentyfifth)"
   ]
  },
  {
   "cell_type": "code",
   "execution_count": 26,
   "id": "89ef4fa7",
   "metadata": {},
   "outputs": [
    {
     "name": "stdout",
     "output_type": "stream",
     "text": [
      "7    5\n",
      "1    3\n",
      "6    2\n",
      "2    1\n",
      "3    1\n",
      "4    1\n",
      "5    1\n",
      "dtype: int64\n"
     ]
    }
   ],
   "source": [
    "# 19. Write a Pandas program to calculate the frequency counts of each unique value of a given series.\n",
    "\n",
    "series1 = pd.Series([1,1,1,2,3,4,5,6,6,7,7,7,7,7])\n",
    "print(series1.value_counts())"
   ]
  },
  {
   "cell_type": "code",
   "execution_count": 27,
   "id": "06b6c541",
   "metadata": {},
   "outputs": [
    {
     "name": "stdout",
     "output_type": "stream",
     "text": [
      "0     Other\n",
      "1         2\n",
      "2         2\n",
      "3     Other\n",
      "4         2\n",
      "5     Other\n",
      "6     Other\n",
      "7         2\n",
      "8         2\n",
      "9     Other\n",
      "10    Other\n",
      "11        2\n",
      "12        2\n",
      "13    Other\n",
      "14    Other\n",
      "dtype: object\n"
     ]
    }
   ],
   "source": [
    "# 20. Write a Pandas program to display most frequent value in a given series and replace everything else as 'Other' in the series.\n",
    "\n",
    "num_series = pd.Series(np.random.randint(1, 5, [15]))\n",
    "count = num_series.value_counts() #value_counts returns a Series\n",
    "most_frequent = count.index[0]\n",
    "\n",
    "num_series[num_series!=most_frequent] = 'Other'\n",
    "\n",
    "print(num_series)"
   ]
  },
  {
   "cell_type": "code",
   "execution_count": 28,
   "id": "e3b990c8",
   "metadata": {},
   "outputs": [
    {
     "name": "stdout",
     "output_type": "stream",
     "text": [
      "Int64Index([0], dtype='int64')\n"
     ]
    }
   ],
   "source": [
    "# 21. Write a Pandas program to find the positions of numbers that are multiples of 5 of a given series.\n",
    "\n",
    "num_series = pd.Series(np.random.randint(1, 10, 9))\n",
    "num_series = num_series[num_series%5==0]\n",
    "\n",
    "print(num_series.index)"
   ]
  },
  {
   "cell_type": "code",
   "execution_count": 32,
   "id": "a3f5143f",
   "metadata": {},
   "outputs": [
    {
     "name": "stdout",
     "output_type": "stream",
     "text": [
      "10    4\n",
      "15    3\n",
      "dtype: int8\n"
     ]
    }
   ],
   "source": [
    "# 22. Write a Pandas program to extract items at given positions of a given series.\n",
    "\n",
    "series1 = pd.Series([1,2,3,4,4,3,1,2,3,5,4,3,3,5,2,3,4,4,6,4,2,1])\n",
    "series1 = pd.to_numeric(series1, downcast = 'integer')\n",
    "positions = [10, 15]\n",
    "\n",
    "print(series1.take(positions)) #Note that this method does not necessarily return indices 10 and 15. Instead, it returns the items in the 10th and 15th rows."
   ]
  },
  {
   "cell_type": "code",
   "execution_count": null,
   "id": "37d38618",
   "metadata": {},
   "outputs": [],
   "source": []
  }
 ],
 "metadata": {
  "kernelspec": {
   "display_name": "Python 3 (ipykernel)",
   "language": "python",
   "name": "python3"
  },
  "language_info": {
   "codemirror_mode": {
    "name": "ipython",
    "version": 3
   },
   "file_extension": ".py",
   "mimetype": "text/x-python",
   "name": "python",
   "nbconvert_exporter": "python",
   "pygments_lexer": "ipython3",
   "version": "3.9.12"
  }
 },
 "nbformat": 4,
 "nbformat_minor": 5
}
